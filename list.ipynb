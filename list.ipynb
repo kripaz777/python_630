{
 "cells": [
  {
   "cell_type": "code",
   "execution_count": 1,
   "id": "aa4f0f30",
   "metadata": {},
   "outputs": [],
   "source": [
    "# # Python collection\n",
    "# list\n",
    "# tuple\n",
    "# dic\n",
    "# set"
   ]
  },
  {
   "cell_type": "code",
   "execution_count": 2,
   "id": "46112fe3",
   "metadata": {},
   "outputs": [],
   "source": [
    "# # list\n",
    "# Indexing\n",
    "# Multiple and duplicate data\n",
    "# Ordered\n",
    "# Mutable"
   ]
  },
  {
   "cell_type": "code",
   "execution_count": 3,
   "id": "7ff20ec5",
   "metadata": {},
   "outputs": [
    {
     "name": "stdout",
     "output_type": "stream",
     "text": [
      "<class 'list'>\n",
      "<class 'list'>\n"
     ]
    }
   ],
   "source": [
    "a = [\"Apple\",\"Ball\",\"Cat\",\"Fish\"]\n",
    "b = [1,2,3,4,5,6,7,8,9]\n",
    "print(type(a))\n",
    "print(type(b))"
   ]
  },
  {
   "cell_type": "code",
   "execution_count": 6,
   "id": "86c81651",
   "metadata": {},
   "outputs": [
    {
     "name": "stdout",
     "output_type": "stream",
     "text": [
      "Apple\n",
      "['Apple', 'Ball', 'Cat']\n",
      "['Apple', 'Cat']\n"
     ]
    }
   ],
   "source": [
    "a = [\"Apple\",\"Ball\",\"Cat\",\"Fish\"]\n",
    "print(a[0])\n",
    "print(a[0:3])\n",
    "print(a[0:3:2])"
   ]
  },
  {
   "cell_type": "code",
   "execution_count": 8,
   "id": "617f7a5c",
   "metadata": {},
   "outputs": [
    {
     "name": "stdout",
     "output_type": "stream",
     "text": [
      "[1, 2, 3, 4, 5, 6, 7, 8, 9, 1, 2, 3, 4]\n",
      "13\n"
     ]
    }
   ],
   "source": [
    "b = [1,2,3,4,5,6,7,8,9,1,2,3,4]\n",
    "print(b)\n",
    "print(len(b))"
   ]
  },
  {
   "cell_type": "code",
   "execution_count": 9,
   "id": "bee50b38",
   "metadata": {},
   "outputs": [
    {
     "name": "stdout",
     "output_type": "stream",
     "text": [
      "['Apple', 'Ball', 'Cat', 'Fish', 1, 2, 3, 4, 5, 6, 7, 8, 9, 1, 2, 3, 4]\n"
     ]
    }
   ],
   "source": [
    "a = [\"Apple\",\"Ball\",\"Cat\",\"Fish\"]\n",
    "b = [1,2,3,4,5,6,7,8,9,1,2,3,4]\n",
    "c = a+b\n",
    "print(c)"
   ]
  },
  {
   "cell_type": "code",
   "execution_count": 10,
   "id": "52049ed1",
   "metadata": {},
   "outputs": [
    {
     "name": "stdout",
     "output_type": "stream",
     "text": [
      "['Apple', 'Ball', 'Cat', 'Fish', 'Apple', 'Ball', 'Cat', 'Fish']\n"
     ]
    }
   ],
   "source": [
    "a = [\"Apple\",\"Ball\",\"Cat\",\"Fish\"]\n",
    "print(a*2)"
   ]
  },
  {
   "cell_type": "code",
   "execution_count": 11,
   "id": "8bbc13f3",
   "metadata": {},
   "outputs": [
    {
     "name": "stdout",
     "output_type": "stream",
     "text": [
      "[1, 2, 3, 4, 5, 6, 7, 8, 9, 1, 2, 3, 4, 1, 2, 3, 4, 5, 6, 7, 8, 9, 1, 2, 3, 4]\n"
     ]
    }
   ],
   "source": [
    "a = [1, 2, 3, 4, 5, 6, 7, 8, 9, 1, 2, 3, 4]\n",
    "print(a*2)"
   ]
  },
  {
   "cell_type": "code",
   "execution_count": 14,
   "id": "312809c3",
   "metadata": {},
   "outputs": [
    {
     "data": {
      "text/plain": [
       "['Apple', 'Ball']"
      ]
     },
     "execution_count": 14,
     "metadata": {},
     "output_type": "execute_result"
    }
   ],
   "source": [
    "# a = []\n",
    "a = list()\n",
    "a = a + [\"Apple\"]\n",
    "a = a + [\"Ball\"]\n",
    "a"
   ]
  },
  {
   "cell_type": "code",
   "execution_count": 16,
   "id": "223e37f1",
   "metadata": {},
   "outputs": [
    {
     "name": "stdout",
     "output_type": "stream",
     "text": [
      "Enter n = 10\n",
      "Enter x = 234\n",
      "Enter x = 456\n",
      "Enter x = 234\n",
      "Enter x = 56\n",
      "Enter x = 234\n",
      "Enter x = 567\n",
      "Enter x = 34\n",
      "Enter x = 567\n",
      "Enter x = 345\n",
      "Enter x = 67\n",
      "[234, 456, 234, 56, 234, 567, 34, 567, 345, 67]\n"
     ]
    }
   ],
   "source": [
    "a = []\n",
    "n = int(input(\"Enter n = \"))\n",
    "for i in range(n):\n",
    "    x = int(input(\"Enter x = \"))\n",
    "    a = a + [x] \n",
    "    \n",
    "print(a)"
   ]
  },
  {
   "cell_type": "code",
   "execution_count": 18,
   "id": "d0aee17f",
   "metadata": {},
   "outputs": [
    {
     "name": "stdout",
     "output_type": "stream",
     "text": [
      "The max value =  567\n",
      "The min value =  34\n",
      "The sum =  2794\n",
      "The avg =  279.4\n"
     ]
    }
   ],
   "source": [
    "a = [234, 456, 234, 56, 234, 567, 34, 567, 345, 67]\n",
    "print(\"The max value = \",max(a))\n",
    "print(\"The min value = \",min(a))\n",
    "print(\"The sum = \",sum(a))\n",
    "print(\"The avg = \",sum(a)/len(a))"
   ]
  },
  {
   "cell_type": "code",
   "execution_count": 19,
   "id": "bae383ef",
   "metadata": {},
   "outputs": [
    {
     "name": "stdout",
     "output_type": "stream",
     "text": [
      "[34, 56, 67, 234, 234, 234, 345, 456, 567, 567]\n"
     ]
    }
   ],
   "source": [
    "a = [234, 456, 234, 56, 234, 567, 34, 567, 345, 67]\n",
    "a.sort()\n",
    "print(a)"
   ]
  },
  {
   "cell_type": "code",
   "execution_count": 20,
   "id": "a95a96e2",
   "metadata": {},
   "outputs": [
    {
     "name": "stdout",
     "output_type": "stream",
     "text": [
      "[567, 567, 456, 345, 234, 234, 234, 67, 56, 34]\n"
     ]
    }
   ],
   "source": [
    "a.reverse()\n",
    "print(a)"
   ]
  },
  {
   "cell_type": "code",
   "execution_count": 23,
   "id": "882f7021",
   "metadata": {},
   "outputs": [
    {
     "name": "stdout",
     "output_type": "stream",
     "text": [
      "['Banana', 'Cat', 'Xray', 'Zebra', 'apple']\n"
     ]
    }
   ],
   "source": [
    "a = [\"Zebra\",\"Banana\",\"Xray\",\"apple\",\"Cat\"]\n",
    "a.sort()\n",
    "print(a)"
   ]
  },
  {
   "cell_type": "code",
   "execution_count": 24,
   "id": "d83ae043",
   "metadata": {},
   "outputs": [
    {
     "name": "stdout",
     "output_type": "stream",
     "text": [
      "['1Xray', 'Banana', 'Cat', 'Zebra', 'apple']\n"
     ]
    }
   ],
   "source": [
    "a = [\"Zebra\",\"Banana\",\"1Xray\",\"apple\",\"Cat\"]\n",
    "a.sort()\n",
    "print(a)"
   ]
  },
  {
   "cell_type": "code",
   "execution_count": 25,
   "id": "93c45707",
   "metadata": {},
   "outputs": [],
   "source": [
    "# #data entry\n",
    "# append() insert() extend()\n",
    "\n",
    "# #delete value\n",
    "# del remove() pop()"
   ]
  },
  {
   "cell_type": "code",
   "execution_count": 27,
   "id": "5baaf59c",
   "metadata": {},
   "outputs": [
    {
     "name": "stdout",
     "output_type": "stream",
     "text": [
      "['Apple', 'Banana']\n"
     ]
    }
   ],
   "source": [
    "# append\n",
    "a = []\n",
    "a.append(\"Apple\")\n",
    "a.append(\"Banana\")\n",
    "print(a)"
   ]
  },
  {
   "cell_type": "code",
   "execution_count": 28,
   "id": "b96fb581",
   "metadata": {},
   "outputs": [
    {
     "name": "stdout",
     "output_type": "stream",
     "text": [
      "Enter n = 5\n",
      "Enter x = 243\n",
      "Enter x = 435\n",
      "Enter x = 56\n",
      "Enter x = 3\n",
      "Enter x = 546\n",
      "[243, 435, 56, 3, 546]\n"
     ]
    }
   ],
   "source": [
    "a = []\n",
    "n = int(input(\"Enter n = \"))\n",
    "for i in range(n):\n",
    "    x = int(input(\"Enter x = \"))\n",
    "    a.append(x)\n",
    "    \n",
    "print(a)"
   ]
  },
  {
   "cell_type": "code",
   "execution_count": 29,
   "id": "bf52a0b1",
   "metadata": {},
   "outputs": [
    {
     "data": {
      "text/plain": [
       "[243, 100, 435, 56, 3, 546]"
      ]
     },
     "execution_count": 29,
     "metadata": {},
     "output_type": "execute_result"
    }
   ],
   "source": [
    "a = [243, 435, 56, 3, 546]\n",
    "a.insert(1,100)\n",
    "a"
   ]
  },
  {
   "cell_type": "code",
   "execution_count": 30,
   "id": "e582f2ac",
   "metadata": {},
   "outputs": [],
   "source": [
    "# a = [1,\"One\",10.5]"
   ]
  },
  {
   "cell_type": "code",
   "execution_count": 31,
   "id": "680f49f9",
   "metadata": {},
   "outputs": [
    {
     "data": {
      "text/plain": [
       "[243, 435, 56, 3, 546, 1, 2, 3, 4]"
      ]
     },
     "execution_count": 31,
     "metadata": {},
     "output_type": "execute_result"
    }
   ],
   "source": [
    "a = [243, 435, 56, 3, 546]\n",
    "b = [1,2,3,4]\n",
    "a.extend(b)\n",
    "a"
   ]
  },
  {
   "cell_type": "code",
   "execution_count": 33,
   "id": "306f31c0",
   "metadata": {},
   "outputs": [
    {
     "data": {
      "text/plain": [
       "['zebra', 'Banana', '1Xray', 'apple', 'Cat']"
      ]
     },
     "execution_count": 33,
     "metadata": {},
     "output_type": "execute_result"
    }
   ],
   "source": [
    "#update\n",
    "a = [\"Zebra\",\"Banana\",\"1Xray\",\"apple\",\"Cat\"]\n",
    "a[0] = \"zebra\"\n",
    "a"
   ]
  },
  {
   "cell_type": "code",
   "execution_count": 34,
   "id": "b1ba06b6",
   "metadata": {},
   "outputs": [
    {
     "data": {
      "text/plain": [
       "0"
      ]
     },
     "execution_count": 34,
     "metadata": {},
     "output_type": "execute_result"
    }
   ],
   "source": [
    "#index\n",
    "a = [\"Zebra\",\"Banana\",\"1Xray\",\"apple\",\"Cat\"]\n",
    "a.index(\"Zebra\")"
   ]
  },
  {
   "cell_type": "code",
   "execution_count": 38,
   "id": "b9381ce6",
   "metadata": {},
   "outputs": [
    {
     "name": "stdout",
     "output_type": "stream",
     "text": [
      "0\n",
      "5\n"
     ]
    }
   ],
   "source": [
    "#index\n",
    "a = [\"Zebra\",\"Banana\",\"1Xray\",\"apple\",\"Cat\",\"Zebra\"]\n",
    "for i in range(len(a)):\n",
    "    if a[i] == \"Zebra\":\n",
    "        print(i)"
   ]
  },
  {
   "cell_type": "code",
   "execution_count": 39,
   "id": "27db873d",
   "metadata": {},
   "outputs": [
    {
     "data": {
      "text/plain": [
       "['zebra', 'Banana', '1Xray', 'apple', 'Cat', 'zebra']"
      ]
     },
     "execution_count": 39,
     "metadata": {},
     "output_type": "execute_result"
    }
   ],
   "source": [
    "#Update multiple value\n",
    "a = [\"Zebra\",\"Banana\",\"1Xray\",\"apple\",\"Cat\",\"Zebra\"]\n",
    "for i in range(len(a)):\n",
    "    if a[i] == \"Zebra\":\n",
    "        a[i] = \"zebra\"\n",
    "        \n",
    "print(a)"
   ]
  },
  {
   "cell_type": "code",
   "execution_count": 41,
   "id": "64f197e5",
   "metadata": {},
   "outputs": [
    {
     "name": "stdout",
     "output_type": "stream",
     "text": [
      "['Banana', '1Xray', 'apple', 'Cat', 'Zebra']\n"
     ]
    }
   ],
   "source": [
    "# delete\n",
    "a = [\"Zebra\",\"Banana\",\"1Xray\",\"apple\",\"Cat\",\"Zebra\"]\n",
    "del a[0]\n",
    "print(a)"
   ]
  },
  {
   "cell_type": "code",
   "execution_count": 42,
   "id": "bb29dc8e",
   "metadata": {},
   "outputs": [
    {
     "data": {
      "text/plain": [
       "['Zebra', '1Xray', 'apple', 'Cat', 'Zebra']"
      ]
     },
     "execution_count": 42,
     "metadata": {},
     "output_type": "execute_result"
    }
   ],
   "source": [
    "# remove()\n",
    "a = [\"Zebra\",\"Banana\",\"1Xray\",\"apple\",\"Cat\",\"Zebra\"]\n",
    "a.remove(\"Banana\")\n",
    "a"
   ]
  },
  {
   "cell_type": "code",
   "execution_count": 43,
   "id": "0700d6cb",
   "metadata": {},
   "outputs": [
    {
     "name": "stdout",
     "output_type": "stream",
     "text": [
      "['Banana', '1Xray', 'apple', 'Cat', 'Zebra']\n"
     ]
    }
   ],
   "source": [
    "#pop()\n",
    "a = [\"Zebra\",\"Banana\",\"1Xray\",\"apple\",\"Cat\",\"Zebra\"]\n",
    "a.pop(0)\n",
    "print(a)"
   ]
  },
  {
   "cell_type": "code",
   "execution_count": 6,
   "id": "81e1a5a4",
   "metadata": {},
   "outputs": [
    {
     "data": {
      "text/plain": [
       "['Banana', '1Xray', 'apple', 'Cat']"
      ]
     },
     "execution_count": 6,
     "metadata": {},
     "output_type": "execute_result"
    }
   ],
   "source": [
    "# remove()\n",
    "a = [\"Zebra\",\"Banana\",\"1Xray\",\"apple\",\"Cat\",\"Zebra\"]\n",
    "l = a.count(\"Zebra\")\n",
    "for i in range(l):\n",
    "    a.remove(\"Zebra\")\n",
    "    \n",
    "a"
   ]
  },
  {
   "cell_type": "code",
   "execution_count": 8,
   "id": "85360c50",
   "metadata": {},
   "outputs": [
    {
     "data": {
      "text/plain": [
       "1"
      ]
     },
     "execution_count": 8,
     "metadata": {},
     "output_type": "execute_result"
    }
   ],
   "source": [
    "a = [\"Zebra\",\"Banana\",\"1Xray\",\"apple\",\"Cat\",\"Zebra\"]\n",
    "a.index(\"Banana\")"
   ]
  },
  {
   "cell_type": "code",
   "execution_count": 11,
   "id": "ed084290",
   "metadata": {},
   "outputs": [
    {
     "name": "stdout",
     "output_type": "stream",
     "text": [
      "0\n",
      "5\n"
     ]
    }
   ],
   "source": [
    "a = [\"Zebra\",\"Banana\",\"1Xray\",\"apple\",\"Cat\",\"Zebra\"]\n",
    "for i in range(len(a)):\n",
    "    if a[i] == \"Zebra\":\n",
    "        print(i)"
   ]
  },
  {
   "cell_type": "code",
   "execution_count": 15,
   "id": "cd39e577",
   "metadata": {},
   "outputs": [
    {
     "name": "stdout",
     "output_type": "stream",
     "text": [
      "Yes\n",
      "2\n"
     ]
    }
   ],
   "source": [
    "# search\n",
    "a = [\"Zebra\",\"Banana\",\"1Xray\",\"apple\",\"Cat\",\"Zebra\"]\n",
    "if \"Zebra\" in a:\n",
    "    print(\"Yes\")\n",
    "    print(a.count(\"Zebra\"))\n",
    "else:\n",
    "    print(\"No\")"
   ]
  },
  {
   "cell_type": "code",
   "execution_count": 17,
   "id": "08feb019",
   "metadata": {},
   "outputs": [
    {
     "name": "stdout",
     "output_type": "stream",
     "text": [
      "[[1, 2, 3], [4, 5, 6], [7, 8, 9]]\n",
      "<class 'list'>\n"
     ]
    }
   ],
   "source": [
    "# List inside list\n",
    "a = [[1,2,3],\n",
    "    [4,5,6],\n",
    "    [7,8,9]]\n",
    "print(a)\n",
    "print(type(a))"
   ]
  },
  {
   "cell_type": "code",
   "execution_count": 21,
   "id": "a368d00e",
   "metadata": {},
   "outputs": [
    {
     "name": "stdout",
     "output_type": "stream",
     "text": [
      "['Ram', 89, 'Kathmandu']\n",
      "Ram\n"
     ]
    }
   ],
   "source": [
    "info = [[\"Ram\",89,\"Kathmandu\"],\n",
    "       [\"Shyam\",56,\"Bhaktapur\"],\n",
    "       [\"Hari\",34,\"Lalitpur\"]]\n",
    "print(info[0])\n",
    "print(info[0][0])"
   ]
  },
  {
   "cell_type": "code",
   "execution_count": 22,
   "id": "90c9d8dd",
   "metadata": {},
   "outputs": [
    {
     "data": {
      "text/plain": [
       "[['Ram', 89, 'Kathmandu'],\n",
       " ['Shyam', 56, 'Bhaktapur'],\n",
       " ['Hari', 34, 'Lalitpur'],\n",
       " ['Sita', 54, 'Lalitpur']]"
      ]
     },
     "execution_count": 22,
     "metadata": {},
     "output_type": "execute_result"
    }
   ],
   "source": [
    "info.append([\"Sita\",54,\"Lalitpur\"])\n",
    "info"
   ]
  },
  {
   "cell_type": "code",
   "execution_count": 24,
   "id": "d757d39b",
   "metadata": {},
   "outputs": [
    {
     "data": {
      "text/plain": [
       "[['Rama', 89, 'Lalitpur'],\n",
       " ['Shyam', 56, 'Bhaktapur'],\n",
       " ['Hari', 34, 'Lalitpur'],\n",
       " ['Sita', 54, 'Lalitpur']]"
      ]
     },
     "execution_count": 24,
     "metadata": {},
     "output_type": "execute_result"
    }
   ],
   "source": [
    "info[0] = ['Rama',89,\"Lalitpur\"]\n",
    "info"
   ]
  },
  {
   "cell_type": "code",
   "execution_count": 25,
   "id": "8a441047",
   "metadata": {},
   "outputs": [
    {
     "data": {
      "text/plain": [
       "[['Ram Prasad', 89, 'Lalitpur'],\n",
       " ['Shyam', 56, 'Bhaktapur'],\n",
       " ['Hari', 34, 'Lalitpur'],\n",
       " ['Sita', 54, 'Lalitpur']]"
      ]
     },
     "execution_count": 25,
     "metadata": {},
     "output_type": "execute_result"
    }
   ],
   "source": [
    "info[0][0] = \"Ram Prasad\"\n",
    "info"
   ]
  },
  {
   "cell_type": "code",
   "execution_count": 1,
   "id": "3f3d53a0",
   "metadata": {},
   "outputs": [
    {
     "name": "stdout",
     "output_type": "stream",
     "text": [
      "Enter surname of Ram= Prasad\n",
      "Enter surname of Shyam= KC\n",
      "Enter surname of Hari= GC\n",
      "[['Ram', 'Prasad', 89, 'Kathmandu'], ['Shyam', 'KC', 56, 'Bhaktapur'], ['Hari', 'GC', 34, 'Lalitpur']]\n"
     ]
    }
   ],
   "source": [
    "info = [[\"Ram\",89,\"Kathmandu\"],\n",
    "       [\"Shyam\",56,\"Bhaktapur\"],\n",
    "       [\"Hari\",34,\"Lalitpur\"]]\n",
    "for i in range(1,len(info)):\n",
    "    x = input(f\"Enter surname of {info[i][0]}= \")\n",
    "    info[i].insert(1,x)\n",
    "    \n",
    "print(info)"
   ]
  },
  {
   "cell_type": "code",
   "execution_count": 7,
   "id": "cd26497d",
   "metadata": {},
   "outputs": [
    {
     "name": "stdout",
     "output_type": "stream",
     "text": [
      "Enter name = shyam\n",
      "['Shyam', 56, 'Bhaktapur']\n"
     ]
    }
   ],
   "source": [
    "info = [[\"Ram\",89,\"Kathmandu\"],\n",
    "       [\"Shyam\",56,\"Bhaktapur\"],\n",
    "       [\"Hari\",34,\"Lalitpur\"]]\n",
    "name = input(\"Enter name = \")\n",
    "for i in info:\n",
    "    if name.lower() == i[0].lower():\n",
    "        print(i)"
   ]
  },
  {
   "cell_type": "code",
   "execution_count": null,
   "id": "1723bcf2",
   "metadata": {},
   "outputs": [],
   "source": []
  }
 ],
 "metadata": {
  "kernelspec": {
   "display_name": "Python 3 (ipykernel)",
   "language": "python",
   "name": "python3"
  },
  "language_info": {
   "codemirror_mode": {
    "name": "ipython",
    "version": 3
   },
   "file_extension": ".py",
   "mimetype": "text/x-python",
   "name": "python",
   "nbconvert_exporter": "python",
   "pygments_lexer": "ipython3",
   "version": "3.9.12"
  }
 },
 "nbformat": 4,
 "nbformat_minor": 5
}
