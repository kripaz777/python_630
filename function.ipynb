{
 "cells": [
  {
   "cell_type": "code",
   "execution_count": 1,
   "id": "3c12197d",
   "metadata": {},
   "outputs": [],
   "source": [
    "# function\n",
    "# pre defined\n",
    "# user defined"
   ]
  },
  {
   "cell_type": "code",
   "execution_count": 2,
   "id": "f76daac7",
   "metadata": {},
   "outputs": [],
   "source": [
    "# # pre defined\n",
    "# print() int() float() str() type() list() tuple() dict() set()"
   ]
  },
  {
   "cell_type": "code",
   "execution_count": 3,
   "id": "835c2038",
   "metadata": {},
   "outputs": [],
   "source": [
    "# # user defined\n",
    "# def <function_name>:\n",
    "#     <operations>\n",
    "    \n",
    "# <function_name>()"
   ]
  },
  {
   "cell_type": "code",
   "execution_count": 5,
   "id": "056a5c4d",
   "metadata": {},
   "outputs": [
    {
     "name": "stdout",
     "output_type": "stream",
     "text": [
      "Hello World\n",
      "Hello World\n"
     ]
    }
   ],
   "source": [
    "def hello():                 #defining\n",
    "    print(\"Hello World\")\n",
    "    \n",
    "hello()                      #call\n",
    "hello()"
   ]
  },
  {
   "cell_type": "code",
   "execution_count": 10,
   "id": "2b5421e0",
   "metadata": {},
   "outputs": [
    {
     "name": "stdout",
     "output_type": "stream",
     "text": [
      "Enter l = 34\n",
      "Enter b = 3\n",
      "Enter h = 2\n",
      "204\n"
     ]
    }
   ],
   "source": [
    "def cal():\n",
    "    l = int(input(\"Enter l = \")) #local variable\n",
    "    b = int(input(\"Enter b = \")) #local variable\n",
    "    h = int(input(\"Enter h = \")) #local variable\n",
    "    v = l*b*h\n",
    "    print(v)\n",
    "    \n",
    "cal()\n",
    "# print(l,b,h)"
   ]
  },
  {
   "cell_type": "code",
   "execution_count": 8,
   "id": "0f964586",
   "metadata": {},
   "outputs": [
    {
     "name": "stdout",
     "output_type": "stream",
     "text": [
      "Enter l = 1000\n",
      "Enter b = 2\n",
      "Enter h = 3\n",
      "6000\n"
     ]
    }
   ],
   "source": [
    "cal()"
   ]
  },
  {
   "cell_type": "code",
   "execution_count": 11,
   "id": "d48417a2",
   "metadata": {},
   "outputs": [
    {
     "name": "stdout",
     "output_type": "stream",
     "text": [
      "Enter l = 123\n",
      "Enter b = 2\n",
      "Enter h = 1\n",
      "246\n"
     ]
    }
   ],
   "source": [
    "# function without argument and no return type\n",
    "\n",
    "l = int(input(\"Enter l = \")) #global variable\n",
    "b = int(input(\"Enter b = \")) #global variable\n",
    "h = int(input(\"Enter h = \")) #global variable\n",
    "def cal():\n",
    "    v = l*b*h\n",
    "    print(v)\n",
    "    \n",
    "cal()\n",
    "# print(l,b,h)"
   ]
  },
  {
   "cell_type": "code",
   "execution_count": null,
   "id": "013c48be",
   "metadata": {},
   "outputs": [],
   "source": [
    "# function without argument and no return type\n",
    "\n",
    "def cal():\n",
    "    global l,b,h\n",
    "    l = int(input(\"Enter l = \")) #local variable\n",
    "    b = int(input(\"Enter b = \")) #local variable\n",
    "    h = int(input(\"Enter h = \")) #local variable\n",
    "    v = l*b*h\n",
    "    print(v)\n",
    "    \n",
    "cal()\n",
    "print(l,b,h)"
   ]
  },
  {
   "cell_type": "code",
   "execution_count": 12,
   "id": "e79de34c",
   "metadata": {},
   "outputs": [],
   "source": [
    "# function without argument and no return type\n",
    "# function with argument and no return type\n",
    "# function without argument and return type\n",
    "# fucntion with argument and return type"
   ]
  },
  {
   "cell_type": "code",
   "execution_count": 14,
   "id": "f9f49d7e",
   "metadata": {},
   "outputs": [
    {
     "name": "stdout",
     "output_type": "stream",
     "text": [
      "Hello World\n"
     ]
    }
   ],
   "source": [
    "def hello(x):       #parameter\n",
    "    print(x)\n",
    "\n",
    "hello(\"Hello World\") #argument"
   ]
  },
  {
   "cell_type": "code",
   "execution_count": 17,
   "id": "97077531",
   "metadata": {},
   "outputs": [
    {
     "name": "stdout",
     "output_type": "stream",
     "text": [
      "Enter l = 13\n",
      "Enter b = 2\n",
      "Enter h = 3\n",
      "78\n"
     ]
    }
   ],
   "source": [
    "# function with argument and no return type\n",
    "def cal(x,y,z):\n",
    "    v = x*y*z\n",
    "    print(v)\n",
    " \n",
    "l = int(input(\"Enter l = \")) #Global variable\n",
    "b = int(input(\"Enter b = \")) #Global variable\n",
    "h = int(input(\"Enter h = \")) #Global variable\n",
    "cal(l,b,h)\n",
    "\n",
    "# print(l,b,h)"
   ]
  },
  {
   "cell_type": "code",
   "execution_count": 16,
   "id": "8dc16d7b",
   "metadata": {},
   "outputs": [
    {
     "name": "stdout",
     "output_type": "stream",
     "text": [
      "Php\n",
      "C\n",
      "C++\n",
      "Java\n",
      "Python\n"
     ]
    }
   ],
   "source": [
    "def lan(language = \"Python\"):\n",
    "    print(language)\n",
    "\n",
    "lan(\"Php\")\n",
    "lan(\"C\")\n",
    "lan(\"C++\")\n",
    "lan(\"Java\")\n",
    "lan()"
   ]
  },
  {
   "cell_type": "code",
   "execution_count": 2,
   "id": "17694e38",
   "metadata": {},
   "outputs": [
    {
     "name": "stdout",
     "output_type": "stream",
     "text": [
      "hello world\n"
     ]
    }
   ],
   "source": [
    "# return type function\n",
    "def hello():\n",
    "    return \"hello world\"\n",
    "\n",
    "print(hello())"
   ]
  },
  {
   "cell_type": "code",
   "execution_count": 4,
   "id": "489e6097",
   "metadata": {},
   "outputs": [
    {
     "name": "stdout",
     "output_type": "stream",
     "text": [
      "Enter l = 100\n",
      "Enter b = 2\n",
      "Enter h = 3\n",
      "200\n",
      "600\n"
     ]
    }
   ],
   "source": [
    "def cal():\n",
    "    l = int(input(\"Enter l = \")) #local variable\n",
    "    b = int(input(\"Enter b = \")) #local variable\n",
    "    a = l*b\n",
    "    return a\n",
    "    \n",
    "area = cal()\n",
    "h = int(input(\"Enter h = \")) #local variable\n",
    "volume = area * h\n",
    "print(area)\n",
    "print(volume)"
   ]
  },
  {
   "cell_type": "code",
   "execution_count": 1,
   "id": "66696539",
   "metadata": {},
   "outputs": [
    {
     "name": "stdout",
     "output_type": "stream",
     "text": [
      "Enter l = 100\n",
      "Enter b = 20\n",
      "Enter h = 3\n",
      "2000\n",
      "6000\n"
     ]
    }
   ],
   "source": [
    "def cal():\n",
    "    l = int(input(\"Enter l = \")) #local variable\n",
    "    b = int(input(\"Enter b = \")) #local variable\n",
    "    h = int(input(\"Enter h = \")) #local variable\n",
    "\n",
    "    a = l*b\n",
    "    v = a*h\n",
    "    return a,v\n",
    " \n",
    "# print(cal())\n",
    "area,volume = cal()\n",
    "\n",
    "print(area)\n",
    "print(volume)"
   ]
  },
  {
   "cell_type": "code",
   "execution_count": 6,
   "id": "20e0876e",
   "metadata": {},
   "outputs": [
    {
     "data": {
      "text/plain": [
       "(10, 11)"
      ]
     },
     "execution_count": 6,
     "metadata": {},
     "output_type": "execute_result"
    }
   ],
   "source": [
    "a = 10,11\n",
    "a"
   ]
  },
  {
   "cell_type": "code",
   "execution_count": 4,
   "id": "bc44527b",
   "metadata": {},
   "outputs": [
    {
     "name": "stdout",
     "output_type": "stream",
     "text": [
      "10\n",
      "11\n"
     ]
    }
   ],
   "source": [
    "x,y = a\n",
    "print(x)\n",
    "print(y)"
   ]
  },
  {
   "cell_type": "code",
   "execution_count": 7,
   "id": "c13b3730",
   "metadata": {},
   "outputs": [
    {
     "name": "stdout",
     "output_type": "stream",
     "text": [
      "3.141592653589793\n"
     ]
    }
   ],
   "source": [
    "# math function\n",
    "import math as m\n",
    "print(m.pi)"
   ]
  },
  {
   "cell_type": "code",
   "execution_count": 8,
   "id": "bf16427e",
   "metadata": {},
   "outputs": [
    {
     "data": {
      "text/plain": [
       "100.0"
      ]
     },
     "execution_count": 8,
     "metadata": {},
     "output_type": "execute_result"
    }
   ],
   "source": [
    "m.pow(10,2)"
   ]
  },
  {
   "cell_type": "code",
   "execution_count": 9,
   "id": "73182157",
   "metadata": {},
   "outputs": [
    {
     "data": {
      "text/plain": [
       "120"
      ]
     },
     "execution_count": 9,
     "metadata": {},
     "output_type": "execute_result"
    }
   ],
   "source": [
    "m.factorial(5)"
   ]
  },
  {
   "cell_type": "code",
   "execution_count": 10,
   "id": "949d5dba",
   "metadata": {},
   "outputs": [
    {
     "data": {
      "text/plain": [
       "0.8939966636005579"
      ]
     },
     "execution_count": 10,
     "metadata": {},
     "output_type": "execute_result"
    }
   ],
   "source": [
    "m.sin(90)"
   ]
  },
  {
   "cell_type": "code",
   "execution_count": 11,
   "id": "12da3bf5",
   "metadata": {},
   "outputs": [
    {
     "data": {
      "text/plain": [
       "1.0"
      ]
     },
     "execution_count": 11,
     "metadata": {},
     "output_type": "execute_result"
    }
   ],
   "source": [
    "m.sin(m.pi/2)"
   ]
  },
  {
   "cell_type": "code",
   "execution_count": null,
   "id": "a2079680",
   "metadata": {},
   "outputs": [],
   "source": [
    "# recursive function\n",
    "def hello():\n",
    "    print(\"Hello World\")\n",
    "    hello()\n",
    "    \n",
    "hello()"
   ]
  },
  {
   "cell_type": "code",
   "execution_count": 2,
   "id": "a3ab9a58",
   "metadata": {},
   "outputs": [
    {
     "name": "stdout",
     "output_type": "stream",
     "text": [
      "Hello World\n",
      "Press enter for more print \n",
      "Hello World\n",
      "Press enter for more print \n",
      "Hello World\n",
      "Press enter for more print \n",
      "Hello World\n",
      "Press enter for more print \n",
      "Hello World\n",
      "Press enter for more print asdas\n"
     ]
    }
   ],
   "source": [
    "# recursive function\n",
    "def hello():\n",
    "    print(\"Hello World\")\n",
    "    x = input(\"Press enter for more print \")\n",
    "    if x == '':\n",
    "        hello()\n",
    "    \n",
    "hello()"
   ]
  },
  {
   "cell_type": "code",
   "execution_count": 3,
   "id": "4745cd1f",
   "metadata": {},
   "outputs": [],
   "source": [
    "# # lambda function\n",
    "\n",
    "# x = lambda <argument>:<expression or operation>\n",
    "# x(<argument)"
   ]
  },
  {
   "cell_type": "code",
   "execution_count": 4,
   "id": "b15a557a",
   "metadata": {},
   "outputs": [
    {
     "name": "stdout",
     "output_type": "stream",
     "text": [
      "9\n"
     ]
    }
   ],
   "source": [
    "x = lambda x:x**2\n",
    "print(x(3))"
   ]
  },
  {
   "cell_type": "code",
   "execution_count": 5,
   "id": "5dbadc9d",
   "metadata": {},
   "outputs": [
    {
     "name": "stdout",
     "output_type": "stream",
     "text": [
      "6\n"
     ]
    }
   ],
   "source": [
    "x = lambda l,b:l*b\n",
    "print(x(2,3))"
   ]
  },
  {
   "cell_type": "code",
   "execution_count": 6,
   "id": "dc22a96f",
   "metadata": {},
   "outputs": [
    {
     "data": {
      "text/plain": [
       "[2, 4, 54, 8, 78, 12]"
      ]
     },
     "execution_count": 6,
     "metadata": {},
     "output_type": "execute_result"
    }
   ],
   "source": [
    "# filter\n",
    "a = [1,2,3,4,54,67,8,65,78,12,33,35]\n",
    "list(filter(lambda x:x%2==0, a))"
   ]
  },
  {
   "cell_type": "code",
   "execution_count": 7,
   "id": "3f43dceb",
   "metadata": {},
   "outputs": [
    {
     "data": {
      "text/plain": [
       "['APPLE', 'BALL', 'FISH']"
      ]
     },
     "execution_count": 7,
     "metadata": {},
     "output_type": "execute_result"
    }
   ],
   "source": [
    "a = [\"APPLE\",\"BALL\",\"cat\",\"dog\",\"FISH\"]\n",
    "list(filter(lambda x:x.isupper(), a))"
   ]
  },
  {
   "cell_type": "code",
   "execution_count": 8,
   "id": "fc0f3f63",
   "metadata": {},
   "outputs": [
    {
     "data": {
      "text/plain": [
       "[1, 2, 3, 4, 5, 1, 2, 3, 4, 5]"
      ]
     },
     "execution_count": 8,
     "metadata": {},
     "output_type": "execute_result"
    }
   ],
   "source": [
    "# map\n",
    "a = [1,2,3,4,5]\n",
    "a*2"
   ]
  },
  {
   "cell_type": "code",
   "execution_count": 11,
   "id": "698f85e8",
   "metadata": {},
   "outputs": [
    {
     "data": {
      "text/plain": [
       "[1, 4, 9, 16, 25]"
      ]
     },
     "execution_count": 11,
     "metadata": {},
     "output_type": "execute_result"
    }
   ],
   "source": [
    "a = [1,2,3,4,5]\n",
    "\n",
    "list(map(lambda x:x**2,a))"
   ]
  },
  {
   "cell_type": "code",
   "execution_count": 12,
   "id": "220bcffe",
   "metadata": {},
   "outputs": [
    {
     "data": {
      "text/plain": [
       "['apple', 'ball', 'cat', 'dog', 'fish']"
      ]
     },
     "execution_count": 12,
     "metadata": {},
     "output_type": "execute_result"
    }
   ],
   "source": [
    "a = [\"APPLE\",\"BALL\",\"cat\",\"dog\",\"FISH\"]\n",
    "list(map(lambda x:x.lower(),a))"
   ]
  },
  {
   "cell_type": "code",
   "execution_count": null,
   "id": "10c8f559",
   "metadata": {},
   "outputs": [],
   "source": []
  }
 ],
 "metadata": {
  "kernelspec": {
   "display_name": "Python 3 (ipykernel)",
   "language": "python",
   "name": "python3"
  },
  "language_info": {
   "codemirror_mode": {
    "name": "ipython",
    "version": 3
   },
   "file_extension": ".py",
   "mimetype": "text/x-python",
   "name": "python",
   "nbconvert_exporter": "python",
   "pygments_lexer": "ipython3",
   "version": "3.9.12"
  }
 },
 "nbformat": 4,
 "nbformat_minor": 5
}
