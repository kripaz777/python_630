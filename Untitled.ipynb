{
 "cells": [
  {
   "cell_type": "code",
   "execution_count": 1,
   "id": "ad916c62",
   "metadata": {},
   "outputs": [
    {
     "data": {
      "text/plain": [
       "{'World'}"
      ]
     },
     "execution_count": 1,
     "metadata": {},
     "output_type": "execute_result"
    }
   ],
   "source": [
    "sport = {\"Messi\",\"Ronaldo\",\"Football\",\"Brazil\",\"World\",\"Cup\"}\n",
    "business = {\"World\",\"Econamy\",\"money\",\"Nepal\"}\n",
    "sport.intersection(business)"
   ]
  },
  {
   "cell_type": "code",
   "execution_count": 2,
   "id": "8342dfd9",
   "metadata": {},
   "outputs": [
    {
     "data": {
      "text/plain": [
       "{'Brazil', 'Cup', 'Football', 'Messi', 'Ronaldo'}"
      ]
     },
     "execution_count": 2,
     "metadata": {},
     "output_type": "execute_result"
    }
   ],
   "source": [
    "sport - business"
   ]
  },
  {
   "cell_type": "code",
   "execution_count": 3,
   "id": "dba9ebef",
   "metadata": {},
   "outputs": [
    {
     "data": {
      "text/plain": [
       "{'Econamy', 'Nepal', 'money'}"
      ]
     },
     "execution_count": 3,
     "metadata": {},
     "output_type": "execute_result"
    }
   ],
   "source": [
    "business - sport"
   ]
  },
  {
   "cell_type": "code",
   "execution_count": null,
   "id": "07a33cae",
   "metadata": {},
   "outputs": [],
   "source": []
  }
 ],
 "metadata": {
  "kernelspec": {
   "display_name": "Python 3 (ipykernel)",
   "language": "python",
   "name": "python3"
  },
  "language_info": {
   "codemirror_mode": {
    "name": "ipython",
    "version": 3
   },
   "file_extension": ".py",
   "mimetype": "text/x-python",
   "name": "python",
   "nbconvert_exporter": "python",
   "pygments_lexer": "ipython3",
   "version": "3.9.12"
  }
 },
 "nbformat": 4,
 "nbformat_minor": 5
}
