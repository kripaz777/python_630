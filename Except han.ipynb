{
 "cells": [
  {
   "cell_type": "code",
   "execution_count": 2,
   "id": "06ddd3b9",
   "metadata": {},
   "outputs": [
    {
     "name": "stdout",
     "output_type": "stream",
     "text": [
      "Enter age = Ten\n",
      "Some error occured\n"
     ]
    }
   ],
   "source": [
    "try:\n",
    "    x = int(input(\"Enter age = \"))\n",
    "    print(x)\n",
    "except:\n",
    "    print(\"Some error occured\")"
   ]
  },
  {
   "cell_type": "code",
   "execution_count": 4,
   "id": "389016ca",
   "metadata": {},
   "outputs": [
    {
     "ename": "ZeroDivisionError",
     "evalue": "division by zero",
     "output_type": "error",
     "traceback": [
      "\u001b[1;31m---------------------------------------------------------------------------\u001b[0m",
      "\u001b[1;31mZeroDivisionError\u001b[0m                         Traceback (most recent call last)",
      "Input \u001b[1;32mIn [4]\u001b[0m, in \u001b[0;36m<cell line: 2>\u001b[1;34m()\u001b[0m\n\u001b[0;32m      1\u001b[0m \u001b[38;5;66;03m#     x = int(input(\"Enter age = \"))\u001b[39;00m\n\u001b[1;32m----> 2\u001b[0m \u001b[38;5;241;43m10\u001b[39;49m\u001b[38;5;241;43m/\u001b[39;49m\u001b[38;5;241;43m0\u001b[39;49m\n",
      "\u001b[1;31mZeroDivisionError\u001b[0m: division by zero"
     ]
    }
   ],
   "source": [
    "#     x = int(input(\"Enter age = \"))\n",
    "10/0"
   ]
  },
  {
   "cell_type": "code",
   "execution_count": 6,
   "id": "6be8827b",
   "metadata": {},
   "outputs": [
    {
     "name": "stdout",
     "output_type": "stream",
     "text": [
      "Enter a = 10\n",
      "Enter b = 0\n",
      "The value of b can not be zero\n"
     ]
    }
   ],
   "source": [
    "try:\n",
    "    a = int(input(\"Enter a = \"))\n",
    "    b = int(input(\"Enter b = \"))\n",
    "    x = a/b\n",
    "    print(x)\n",
    "except ValueError:\n",
    "    print(\"Please enter int value\")\n",
    "except ZeroDivisionError:\n",
    "    print(\"The value of b can not be zero\")"
   ]
  },
  {
   "cell_type": "code",
   "execution_count": 10,
   "id": "bc6514fe",
   "metadata": {},
   "outputs": [
    {
     "name": "stdout",
     "output_type": "stream",
     "text": [
      "Enter a = qewq\n",
      "Please enter int value\n",
      "Enter a = eqwqew\n",
      "Please enter int value\n",
      "Enter a = sdfsd\n",
      "Please enter int value\n",
      "Enter a = 10\n",
      "Enter b = 2\n",
      "5.0\n",
      "You have attemped 4 times\n"
     ]
    }
   ],
   "source": [
    "c = 1\n",
    "def cal():\n",
    "    global c\n",
    "    try:\n",
    "        a = int(input(\"Enter a = \"))\n",
    "        b = int(input(\"Enter b = \"))\n",
    "        x = a/b\n",
    "        print(x)\n",
    "    except ValueError:\n",
    "        print(\"Please enter int value\")\n",
    "        c = c+1\n",
    "        cal()\n",
    "    except ZeroDivisionError:\n",
    "        print(\"The value of b can not be zero\")\n",
    "        c = c+1\n",
    "        cal()\n",
    "        \n",
    "cal()\n",
    "print(f\"You have attemped {c} times\")"
   ]
  },
  {
   "cell_type": "code",
   "execution_count": null,
   "id": "750e886f",
   "metadata": {},
   "outputs": [],
   "source": [
    "try:\n",
    "    a = int(input(\"Enter a = \"))\n",
    "    b = int(input(\"Enter b = \"))\n",
    "    x = a/b\n",
    "\n",
    "except ValueError:\n",
    "    print(\"Please enter int value\")\n",
    "\n",
    "except ZeroDivisionError:\n",
    "    print(\"The value of b can not be zero\")\n",
    "    \n",
    "else:\n",
    "    print(x)"
   ]
  },
  {
   "cell_type": "code",
   "execution_count": 14,
   "id": "4f00969f",
   "metadata": {},
   "outputs": [
    {
     "ename": "AssertionError",
     "evalue": "",
     "output_type": "error",
     "traceback": [
      "\u001b[1;31m---------------------------------------------------------------------------\u001b[0m",
      "\u001b[1;31mAssertionError\u001b[0m                            Traceback (most recent call last)",
      "Input \u001b[1;32mIn [14]\u001b[0m, in \u001b[0;36m<cell line: 1>\u001b[1;34m()\u001b[0m\n\u001b[1;32m----> 1\u001b[0m \u001b[38;5;28;01massert\u001b[39;00m \u001b[38;5;241m10\u001b[39m \u001b[38;5;241m>\u001b[39m\u001b[38;5;241m=\u001b[39m \u001b[38;5;241m18\u001b[39m\n",
      "\u001b[1;31mAssertionError\u001b[0m: "
     ]
    }
   ],
   "source": [
    "assert 10 >= 18"
   ]
  },
  {
   "cell_type": "code",
   "execution_count": 17,
   "id": "0f7bb65e",
   "metadata": {},
   "outputs": [
    {
     "name": "stdout",
     "output_type": "stream",
     "text": [
      "Enter age = 10\n",
      "Age =  10\n",
      "The age should be >= 18\n"
     ]
    }
   ],
   "source": [
    "try:\n",
    "    age = int(input(\"Enter age = \"))\n",
    "    print(\"Age = \",age)\n",
    "    assert age >= 18\n",
    "    \n",
    "except AssertionError:\n",
    "    print(\"The age should be >= 18\")\n",
    "except:\n",
    "    print(\"Some error occured\")\n",
    "else:\n",
    "    print(\"You entered age = \",age)"
   ]
  },
  {
   "cell_type": "code",
   "execution_count": null,
   "id": "da2cf3e1",
   "metadata": {},
   "outputs": [],
   "source": []
  },
  {
   "cell_type": "code",
   "execution_count": null,
   "id": "15f5a573",
   "metadata": {},
   "outputs": [],
   "source": []
  }
 ],
 "metadata": {
  "kernelspec": {
   "display_name": "Python 3 (ipykernel)",
   "language": "python",
   "name": "python3"
  },
  "language_info": {
   "codemirror_mode": {
    "name": "ipython",
    "version": 3
   },
   "file_extension": ".py",
   "mimetype": "text/x-python",
   "name": "python",
   "nbconvert_exporter": "python",
   "pygments_lexer": "ipython3",
   "version": "3.9.12"
  }
 },
 "nbformat": 4,
 "nbformat_minor": 5
}
