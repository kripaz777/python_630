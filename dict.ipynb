{
 "cells": [
  {
   "cell_type": "code",
   "execution_count": 1,
   "id": "13aaf3cf",
   "metadata": {},
   "outputs": [],
   "source": [
    "# Dict\n",
    "# -Indexing\n",
    "# -Multiple data \n",
    "# -Ordered\n",
    "# -Mutable"
   ]
  },
  {
   "cell_type": "code",
   "execution_count": 2,
   "id": "c5430df7",
   "metadata": {},
   "outputs": [],
   "source": [
    "# d = {<key>:<value>, <key>:<value>, <key>:<value>}"
   ]
  },
  {
   "cell_type": "code",
   "execution_count": 4,
   "id": "940a78df",
   "metadata": {},
   "outputs": [
    {
     "name": "stdout",
     "output_type": "stream",
     "text": [
      "{'a': 'Apple', 'b': 'Ball'}\n",
      "2\n"
     ]
    }
   ],
   "source": [
    "d = {\"a\":\"Apple\", \"b\":\"Ball\"}\n",
    "print(d)\n",
    "print(len(d))"
   ]
  },
  {
   "cell_type": "code",
   "execution_count": 6,
   "id": "150c70f4",
   "metadata": {},
   "outputs": [
    {
     "name": "stdout",
     "output_type": "stream",
     "text": [
      "Ball\n"
     ]
    }
   ],
   "source": [
    "print(d[\"b\"])"
   ]
  },
  {
   "cell_type": "code",
   "execution_count": 7,
   "id": "b685877a",
   "metadata": {},
   "outputs": [
    {
     "name": "stdout",
     "output_type": "stream",
     "text": [
      "{'a': 'Apple', 'b': 'Ball'}\n"
     ]
    }
   ],
   "source": [
    "d = {\"a\":\"Apple\", \"b\":\"Ball\"}\n",
    "print(d)"
   ]
  },
  {
   "cell_type": "code",
   "execution_count": null,
   "id": "dfe72e7b",
   "metadata": {},
   "outputs": [],
   "source": [
    "# d = dict()\n",
    "# d = {}"
   ]
  },
  {
   "cell_type": "code",
   "execution_count": 9,
   "id": "e933c664",
   "metadata": {},
   "outputs": [
    {
     "data": {
      "text/plain": [
       "{'a': 'Apple', 'b': 'Ball', 'c': 'Cat'}"
      ]
     },
     "execution_count": 9,
     "metadata": {},
     "output_type": "execute_result"
    }
   ],
   "source": [
    "d = {}\n",
    "d['a'] = \"Apple\"\n",
    "d['b'] = \"Ball\"\n",
    "d['c'] = \"Cat\"\n",
    "d"
   ]
  },
  {
   "cell_type": "code",
   "execution_count": 11,
   "id": "df3aef18",
   "metadata": {},
   "outputs": [
    {
     "data": {
      "text/plain": [
       "{'a': 'apple', 'b': 'Ball', 'c': 'Cat'}"
      ]
     },
     "execution_count": 11,
     "metadata": {},
     "output_type": "execute_result"
    }
   ],
   "source": [
    "a = {'a': 'Apple', 'b': 'Ball', 'c': 'Cat'}\n",
    "a['a'] = \"apple\"\n",
    "a"
   ]
  },
  {
   "cell_type": "code",
   "execution_count": 13,
   "id": "3df5dcc2",
   "metadata": {},
   "outputs": [
    {
     "data": {
      "text/plain": [
       "{'a': 'Ant', 'b': 'Ball', 'c': 'Cat'}"
      ]
     },
     "execution_count": 13,
     "metadata": {},
     "output_type": "execute_result"
    }
   ],
   "source": [
    "a = {'a': 'Apple', 'b': 'Ball', 'c': 'Cat'}\n",
    "a['a'] = \"Ant\"\n",
    "a"
   ]
  },
  {
   "cell_type": "code",
   "execution_count": 14,
   "id": "9b9e7e21",
   "metadata": {},
   "outputs": [
    {
     "name": "stdout",
     "output_type": "stream",
     "text": [
      "a\n",
      "b\n",
      "c\n"
     ]
    }
   ],
   "source": [
    "a = {'a': 'Apple', 'b': 'Ball', 'c': 'Cat'}\n",
    "for i in a:\n",
    "    print(i)"
   ]
  },
  {
   "cell_type": "code",
   "execution_count": 15,
   "id": "612fc359",
   "metadata": {},
   "outputs": [
    {
     "name": "stdout",
     "output_type": "stream",
     "text": [
      "Apple\n",
      "Ball\n",
      "Cat\n"
     ]
    }
   ],
   "source": [
    "a = {'a': 'Apple', 'b': 'Ball', 'c': 'Cat'}\n",
    "for i in a.values():\n",
    "    print(i)"
   ]
  },
  {
   "cell_type": "code",
   "execution_count": 16,
   "id": "791bead1",
   "metadata": {},
   "outputs": [
    {
     "name": "stdout",
     "output_type": "stream",
     "text": [
      "('a', 'Apple')\n",
      "('b', 'Ball')\n",
      "('c', 'Cat')\n"
     ]
    }
   ],
   "source": [
    "a = {'a': 'Apple', 'b': 'Ball', 'c': 'Cat'}\n",
    "for i in a.items():\n",
    "    print(i)"
   ]
  },
  {
   "cell_type": "code",
   "execution_count": 17,
   "id": "0334c940",
   "metadata": {},
   "outputs": [
    {
     "name": "stdout",
     "output_type": "stream",
     "text": [
      "Enter n = 2\n",
      "Enter name = A\n",
      "Enter phone = 9808778765\n",
      "Enter name = Ram\n",
      "Enter phone = 980878765\n",
      "{'A': 9808778765, 'Ram': 980878765}\n"
     ]
    }
   ],
   "source": [
    "d = {}\n",
    "n = int(input(\"Enter n = \"))\n",
    "for i in range(n):\n",
    "    name = input(\"Enter name = \")\n",
    "    phone = int(input(\"Enter phone = \"))\n",
    "    d[name] = phone\n",
    "    \n",
    "print(d)"
   ]
  },
  {
   "cell_type": "code",
   "execution_count": 18,
   "id": "f260af5c",
   "metadata": {},
   "outputs": [
    {
     "data": {
      "text/plain": [
       "{'a': 'Apple', 'b': 'Ball', 'c': 'Cat'}"
      ]
     },
     "execution_count": 18,
     "metadata": {},
     "output_type": "execute_result"
    }
   ],
   "source": [
    "a = {}\n",
    "a['a'] = 'Apple'\n",
    "a['b'] = 'Ball'\n",
    "a['c'] = 'Cat'\n",
    "a"
   ]
  },
  {
   "cell_type": "code",
   "execution_count": 19,
   "id": "05ae006b",
   "metadata": {},
   "outputs": [
    {
     "data": {
      "text/plain": [
       "{'a': 'Apple', 'b': 'Ball', 'c': 'Cat', 'e': 'Egg', 'f': 'Fish'}"
      ]
     },
     "execution_count": 19,
     "metadata": {},
     "output_type": "execute_result"
    }
   ],
   "source": [
    "# No + *\n",
    "d = {'a': 'Apple', 'b': 'Ball', 'c': 'Cat'}\n",
    "a = {'e':'Egg','f':'Fish'}\n",
    "d.update(a)\n",
    "d"
   ]
  },
  {
   "cell_type": "code",
   "execution_count": 20,
   "id": "482e4cf6",
   "metadata": {},
   "outputs": [
    {
     "data": {
      "text/plain": [
       "{'b': 'Ball', 'c': 'Cat', 'e': 'Egg', 'f': 'Fish'}"
      ]
     },
     "execution_count": 20,
     "metadata": {},
     "output_type": "execute_result"
    }
   ],
   "source": [
    "# del \n",
    "a = {'a': 'Apple', 'b': 'Ball', 'c': 'Cat', 'e': 'Egg', 'f': 'Fish'}\n",
    "del a['a']\n",
    "a"
   ]
  },
  {
   "cell_type": "code",
   "execution_count": 24,
   "id": "846cab7c",
   "metadata": {},
   "outputs": [
    {
     "name": "stdout",
     "output_type": "stream",
     "text": [
      "{'b': 'Ball', 'c': 'Cat', 'e': 'Egg', 'f': 'Fish'}\n",
      "Apple\n"
     ]
    }
   ],
   "source": [
    "# pop\n",
    "a = {'a': 'Apple', 'b': 'Ball', 'c': 'Cat', 'e': 'Egg', 'f': 'Fish'}\n",
    "b = a.pop('a')\n",
    "print(a)\n",
    "print(b)"
   ]
  },
  {
   "cell_type": "code",
   "execution_count": null,
   "id": "91211397",
   "metadata": {},
   "outputs": [],
   "source": [
    "# list inside dict"
   ]
  },
  {
   "cell_type": "code",
   "execution_count": 26,
   "id": "7657ba40",
   "metadata": {},
   "outputs": [
    {
     "data": {
      "text/plain": [
       "{'Ram': [984778765, 980889765], 'Shyam': [9845667654, 980887876]}"
      ]
     },
     "execution_count": 26,
     "metadata": {},
     "output_type": "execute_result"
    }
   ],
   "source": [
    "a = {'Ram':[984778765,980889765],'Shyam':[9845667654,980887876]}\n",
    "a"
   ]
  },
  {
   "cell_type": "code",
   "execution_count": 30,
   "id": "b0802fa8",
   "metadata": {},
   "outputs": [
    {
     "data": {
      "text/plain": [
       "984778765"
      ]
     },
     "execution_count": 30,
     "metadata": {},
     "output_type": "execute_result"
    }
   ],
   "source": [
    "a['Ram'][0]"
   ]
  },
  {
   "cell_type": "code",
   "execution_count": 32,
   "id": "d751c15b",
   "metadata": {},
   "outputs": [
    {
     "data": {
      "text/plain": [
       "{'Ram': [9848000000, 980889765], 'Shyam': [9845667654, 980887876]}"
      ]
     },
     "execution_count": 32,
     "metadata": {},
     "output_type": "execute_result"
    }
   ],
   "source": [
    "a['Ram'][0] = 9848000000\n",
    "a"
   ]
  },
  {
   "cell_type": "code",
   "execution_count": null,
   "id": "76347296",
   "metadata": {},
   "outputs": [],
   "source": [
    "d = {}\n",
    "n = int(input(\"Enter n = \"))\n",
    "for i in range(n):\n",
    "    name = input(\"Enter name = \")\n",
    "    ntc_phone = int(input(\"Enter ntc phone = \"))\n",
    "    ncell_phone = int(input(\"Enter ncell phone = \"))\n",
    "\n",
    "    d[name] = [ntc_phone,ncell_phone]\n",
    "    \n",
    "print(d)"
   ]
  },
  {
   "cell_type": "code",
   "execution_count": 37,
   "id": "91fd9d59",
   "metadata": {},
   "outputs": [
    {
     "data": {
      "text/plain": [
       "{'name': ['Ram', 'Shyam', 'Hari', 'Ram'],\n",
       " 'age': [78, 89, 67, 89],\n",
       " 'add': ['Kathmandu', 'Bhaktapur', 'Lalitpur', 'Kathmandu']}"
      ]
     },
     "execution_count": 37,
     "metadata": {},
     "output_type": "execute_result"
    }
   ],
   "source": [
    "info = {'name':['Ram',\"Shyam\",\"Hari\",\"Ram\"],\n",
    "       'age':[78,89,67,89],\n",
    "       'add':['Kathmandu','Bhaktapur','Lalitpur',\"Kathmandu\"]}\n",
    "info"
   ]
  },
  {
   "cell_type": "code",
   "execution_count": 38,
   "id": "afefef9b",
   "metadata": {},
   "outputs": [
    {
     "name": "stdout",
     "output_type": "stream",
     "text": [
      "Ram\n",
      "78\n",
      "Kathmandu\n"
     ]
    }
   ],
   "source": [
    "print(info['name'][0])\n",
    "print(info['age'][0])\n",
    "print(info['add'][0])"
   ]
  },
  {
   "cell_type": "code",
   "execution_count": 43,
   "id": "29525a44",
   "metadata": {},
   "outputs": [
    {
     "name": "stdout",
     "output_type": "stream",
     "text": [
      "Ram 78 Kathmandu\n",
      "Ram 89 Kathmandu\n"
     ]
    }
   ],
   "source": [
    "c = 0\n",
    "for i in info['name']:\n",
    "    if \"Ram\" == i:\n",
    "        print(info['name'][c],info['age'][c],info['add'][c])\n",
    "\n",
    "    c = c+1\n"
   ]
  },
  {
   "cell_type": "code",
   "execution_count": 49,
   "id": "67136314",
   "metadata": {},
   "outputs": [
    {
     "data": {
      "text/plain": [
       "'Jhapa'"
      ]
     },
     "execution_count": 49,
     "metadata": {},
     "output_type": "execute_result"
    }
   ],
   "source": [
    "# dict inside list\n",
    "data = [{'name':'Ram','age':45,'add':'Kathmandu'},\n",
    "       {'name':'Shyam','age':54,'add':'Kathmandu'},\n",
    "       {'name':'Hari','age':25,'add':'Jhapa'}]\n",
    "data[2]['add']"
   ]
  },
  {
   "cell_type": "code",
   "execution_count": 47,
   "id": "f1f1e74f",
   "metadata": {},
   "outputs": [
    {
     "data": {
      "text/plain": [
       "[{'name': 'Ram', 'age': 45, 'add': ['Kathmandu', 'Jhapa']},\n",
       " {'name': 'Shyam', 'age': 54, 'add': ['Kathmandu', 'Dhading']},\n",
       " {'name': 'Hari', 'age': 25, 'add': ['Jhapa', 'Kapan']}]"
      ]
     },
     "execution_count": 47,
     "metadata": {},
     "output_type": "execute_result"
    }
   ],
   "source": [
    "# dict inside list\n",
    "data = [{'name':'Ram','age':45,'add':['Kathmandu','Jhapa']},\n",
    "       {'name':'Shyam','age':54,'add':['Kathmandu','Dhading']},\n",
    "       {'name':'Hari','age':25,'add':['Jhapa','Kapan']}]\n",
    "data"
   ]
  },
  {
   "cell_type": "code",
   "execution_count": 48,
   "id": "9e379b9c",
   "metadata": {},
   "outputs": [],
   "source": [
    "# dict inside dict\n",
    "data = {1:{'name':'Ram','age':45,'add':{'Kathmandu'}},\n",
    "       2:{'name':'Shyam','age':54,'add':'Kathmandu'},\n",
    "       3:{'name':'Hari','age':25,'add':'Jhapa'}}"
   ]
  },
  {
   "cell_type": "code",
   "execution_count": null,
   "id": "37628864",
   "metadata": {},
   "outputs": [],
   "source": [
    "# WAP to create dict inside dict with CRUD\n",
    "# WAP to create list inside dict with CRUD\n",
    "# WAP to create dict inside list with CRUD"
   ]
  },
  {
   "cell_type": "code",
   "execution_count": 1,
   "id": "1e488a7d",
   "metadata": {},
   "outputs": [
    {
     "name": "stdout",
     "output_type": "stream",
     "text": [
      "Enter n = 2\n",
      "Enter name = Ram\n",
      "Enter age = 45\n",
      "Enter add = Kathmandu\n",
      "Enter name = Sita\n",
      "Enter age = 89\n",
      "Enter add = Bhaktapur\n",
      "{'name': ['Ram', 'Sita'], 'age': [45, 89], 'add': ['Kathmandu', 'Bhaktapur']}\n"
     ]
    }
   ],
   "source": [
    "# WAP to create list inside dict with CRUD\n",
    "d = {'name':[],'age':[],'add':[]}\n",
    "n = int(input(\"Enter n = \"))\n",
    "for i in range(n):\n",
    "    name = input(\"Enter name = \")\n",
    "    age = int(input(\"Enter age = \"))\n",
    "    add = input(\"Enter add = \")\n",
    "    d['name'].append(name)\n",
    "    d['age'].append(age)\n",
    "    d['add'].append(add)\n",
    "    \n",
    "print(d)"
   ]
  },
  {
   "cell_type": "code",
   "execution_count": 2,
   "id": "8a2a1409",
   "metadata": {},
   "outputs": [
    {
     "name": "stdout",
     "output_type": "stream",
     "text": [
      "Enter n = 2\n",
      "Enter name = Ram\n",
      "Enter age = 89\n",
      "Enter add = Kathmandu\n",
      "Enter name = Sita\n",
      "Enter age = 78\n",
      "Enter add = Jhapa\n",
      "[{'name': 'Ram', 'age': 89, 'add': 'Kathmandu'}, {'name': 'Sita', 'age': 78, 'add': 'Jhapa'}]\n"
     ]
    }
   ],
   "source": [
    "# WAP to create dict inside list with CRUD\n",
    "l= []\n",
    "n = int(input(\"Enter n = \"))\n",
    "for i in range(n):\n",
    "    name = input(\"Enter name = \")\n",
    "    age = int(input(\"Enter age = \"))\n",
    "    add = input(\"Enter add = \")\n",
    "    data = {'name':name,'age':age,'add':add}\n",
    "    l.append(data)\n",
    "    \n",
    "print(l)"
   ]
  },
  {
   "cell_type": "code",
   "execution_count": 4,
   "id": "4a255a86",
   "metadata": {},
   "outputs": [
    {
     "name": "stdout",
     "output_type": "stream",
     "text": [
      "Enter n = 2\n",
      "Enter name = Ram\n",
      "Enter age = 89\n",
      "Enter add = Kathmandu\n",
      "Enter name = Shyam\n",
      "Enter age = 89\n",
      "Enter add = Bhaktapur\n",
      "{0: {'name': 'Ram', 'age': 89, 'add': 'Kathmandu'}, 1: {'name': 'Shyam', 'age': 89, 'add': 'Bhaktapur'}}\n"
     ]
    }
   ],
   "source": [
    "# WAP to create dict inside dict with CRUD\n",
    "d= {}\n",
    "n = int(input(\"Enter n = \"))\n",
    "for i in range(n):\n",
    "    name = input(\"Enter name = \")\n",
    "    age = int(input(\"Enter age = \"))\n",
    "    add = input(\"Enter add = \")\n",
    "    d[i] = {'name':name,'age':age,'add':add}\n",
    "    \n",
    "print(d)"
   ]
  },
  {
   "cell_type": "code",
   "execution_count": null,
   "id": "7d0aefad",
   "metadata": {},
   "outputs": [],
   "source": []
  }
 ],
 "metadata": {
  "kernelspec": {
   "display_name": "Python 3 (ipykernel)",
   "language": "python",
   "name": "python3"
  },
  "language_info": {
   "codemirror_mode": {
    "name": "ipython",
    "version": 3
   },
   "file_extension": ".py",
   "mimetype": "text/x-python",
   "name": "python",
   "nbconvert_exporter": "python",
   "pygments_lexer": "ipython3",
   "version": "3.9.12"
  }
 },
 "nbformat": 4,
 "nbformat_minor": 5
}
