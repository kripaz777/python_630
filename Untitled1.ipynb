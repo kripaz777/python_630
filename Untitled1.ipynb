{
 "cells": [
  {
   "cell_type": "code",
   "execution_count": 1,
   "id": "8dbbcdc6",
   "metadata": {},
   "outputs": [],
   "source": [
    "# class A:\n",
    "#     pass\n",
    "\n",
    "# class B(A):\n",
    "#     pass\n",
    "\n",
    "# obj = B()"
   ]
  },
  {
   "cell_type": "code",
   "execution_count": null,
   "id": "4e58ded9",
   "metadata": {},
   "outputs": [],
   "source": [
    "class Info:\n",
    "    def __init__(self):\n",
    "        self.name = input(\"Enter name = \")\n",
    "        self.age = int(input(\"Enter age = \"))\n",
    "        self.add = input(\"Enter add = \")\n",
    "    def info(self):\n",
    "        print(self.name,self.age,self.add)\n",
    "\n",
    "class Data(Info):\n",
    "    def data(self):\n",
    "        return f\"Hello world I am {self.name}. I am from {self.add}. I am {self.age}\"\n",
    "    \n",
    "obj = Data()\n",
    "print(obj.data())\n",
    "obj.info()"
   ]
  },
  {
   "cell_type": "code",
   "execution_count": 2,
   "id": "e97ea762",
   "metadata": {},
   "outputs": [
    {
     "name": "stdout",
     "output_type": "stream",
     "text": [
      "Enter name = Ram\n",
      "Enter age = 89\n",
      "Enter add = Kathmandu\n",
      "Hello world I am Ram. I am from Kathmandu. I am 89\n",
      "Ram 89 Kathmandu\n"
     ]
    }
   ],
   "source": [
    "class Info:\n",
    "    def __init__(self,name,age,add):\n",
    "        self.name = name\n",
    "        self.age = age\n",
    "        self.add = add\n",
    "        \n",
    "    def info(self):\n",
    "        print(self.name,self.age,self.add)\n",
    "\n",
    "class Data(Info):\n",
    "    def data(self):\n",
    "        return f\"Hello world I am {self.name}. I am from {self.add}. I am {self.age}\"\n",
    "    \n",
    "name = input(\"Enter name = \")\n",
    "age = int(input(\"Enter age = \"))\n",
    "add = input(\"Enter add = \")   \n",
    "obj = Data(name,age,add)\n",
    "print(obj.data())\n",
    "obj.info()"
   ]
  },
  {
   "cell_type": "code",
   "execution_count": 3,
   "id": "715b202a",
   "metadata": {},
   "outputs": [],
   "source": [
    "# multilevel\n",
    "class A:\n",
    "    pass\n",
    "\n",
    "\n",
    "class B(A):\n",
    "    pass\n",
    "\n",
    "\n",
    "class C(B):\n",
    "    pass\n",
    "\n",
    "obj = C()"
   ]
  },
  {
   "cell_type": "code",
   "execution_count": null,
   "id": "334c51ba",
   "metadata": {},
   "outputs": [],
   "source": [
    "# multiple\n",
    "class A:\n",
    "    pass\n",
    "\n",
    "\n",
    "class B:\n",
    "    pass\n",
    "\n",
    "\n",
    "class C(A,B):\n",
    "    pass\n",
    "\n",
    "obj = C()"
   ]
  },
  {
   "cell_type": "code",
   "execution_count": 4,
   "id": "c7181528",
   "metadata": {},
   "outputs": [
    {
     "name": "stdout",
     "output_type": "stream",
     "text": [
      "Enter name = Ram\n",
      "Enter age = 34\n",
      "Enter add = Kathmandu\n",
      "Hello world I am Ram. I am from Kathmandu. I am 34\n",
      "Ram 34 Kathmandu\n"
     ]
    }
   ],
   "source": [
    "class Info:\n",
    "    def __init__(self,age,add):\n",
    "        self.age = age\n",
    "        self.add = add\n",
    "        \n",
    "    def info(self):\n",
    "        print(self.name,self.age,self.add)\n",
    "\n",
    "class Data(Info):\n",
    "    def __init__(self,name,age,add):\n",
    "        self.name = name\n",
    "        Info.__init__(self,age,add)\n",
    "    def data(self):\n",
    "        return f\"Hello world I am {self.name}. I am from {self.add}. I am {self.age}\"\n",
    "    \n",
    "name = input(\"Enter name = \")\n",
    "age = int(input(\"Enter age = \"))\n",
    "add = input(\"Enter add = \")   \n",
    "obj = Data(name,age,add)\n",
    "print(obj.data())\n",
    "obj.info()"
   ]
  },
  {
   "cell_type": "code",
   "execution_count": null,
   "id": "8ea9e58c",
   "metadata": {},
   "outputs": [],
   "source": [
    "class Address:\n",
    "    def __init__(self,add):\n",
    "        self.add = add\n",
    "class Info(Address):\n",
    "    def __init__(self,age,add):\n",
    "        self.age = age\n",
    "        Address.__init__(self,add)\n",
    "        \n",
    "    def info(self):\n",
    "        print(self.name,self.age,self.add)\n",
    "\n",
    "class Data(Info):\n",
    "    def __init__(self,name,age,add):\n",
    "        self.name = name\n",
    "        Info.__init__(self,age,add)\n",
    "    def data(self):\n",
    "        return f\"Hello world I am {self.name}. I am from {self.add}. I am {self.age}\"\n",
    "    \n",
    "name = input(\"Enter name = \")\n",
    "age = int(input(\"Enter age = \"))\n",
    "add = input(\"Enter add = \")   \n",
    "obj = Data(name,age,add)\n",
    "print(obj.data())\n",
    "obj.info()"
   ]
  },
  {
   "cell_type": "code",
   "execution_count": 6,
   "id": "156237ac",
   "metadata": {},
   "outputs": [
    {
     "name": "stdout",
     "output_type": "stream",
     "text": [
      "Enter name = 100\n",
      "Enter age = 23\n",
      "Enter add = 2\n",
      "Hello world I am 100. I am from 2. I am 23\n"
     ]
    }
   ],
   "source": [
    "class Address:\n",
    "    def __init__(self,add):\n",
    "        self.add = add\n",
    "        \n",
    "    def add(self):\n",
    "        print(self.add)\n",
    "class Age:\n",
    "    def __init__(self,age):\n",
    "        self.age = age\n",
    "        \n",
    "    def info(self):\n",
    "        print(self.age)\n",
    "\n",
    "class Data(Address,Age):\n",
    "    def __init__(self,name,age,add):\n",
    "        self.name = name\n",
    "        Age.__init__(self,age)\n",
    "        Address.__init__(self,add)\n",
    "\n",
    "    def data(self):\n",
    "        return f\"Hello world I am {self.name}. I am from {self.add}. I am {self.age}\"\n",
    "    \n",
    "name = input(\"Enter name = \")\n",
    "age = int(input(\"Enter age = \"))\n",
    "add = input(\"Enter add = \")   \n",
    "obj = Data(name,age,add)\n",
    "print(obj.data())"
   ]
  },
  {
   "cell_type": "code",
   "execution_count": 1,
   "id": "c9ef5604",
   "metadata": {},
   "outputs": [
    {
     "name": "stdout",
     "output_type": "stream",
     "text": [
      "Ram\n",
      "45\n",
      "Kathmandu\n"
     ]
    }
   ],
   "source": [
    "#public\n",
    "class Info:\n",
    "    def __init__(self):\n",
    "        self.name = \"Ram\"\n",
    "        self.age = 45\n",
    "        self.add = \"Kathmandu\"\n",
    "\n",
    "obj = Info()\n",
    "print(obj.name)\n",
    "print(obj.age)\n",
    "print(obj.add)"
   ]
  },
  {
   "cell_type": "code",
   "execution_count": 5,
   "id": "36e5545d",
   "metadata": {},
   "outputs": [
    {
     "name": "stdout",
     "output_type": "stream",
     "text": [
      "Ram\n",
      "45\n",
      "Kathmandu\n"
     ]
    }
   ],
   "source": [
    "#protected\n",
    "class Info:\n",
    "    def __init__(self):\n",
    "        self._name = \"Ram\"\n",
    "        self._age = 45\n",
    "        self._add = \"Kathmandu\"\n",
    "        \n",
    "class Data(Info):\n",
    "    def data(self):\n",
    "        print(f\"Hello world I am {self._name}. I am from {self._add}. I am {self._age}\")\n",
    "    \n",
    "\n",
    "obj = Data()\n",
    "print(obj._name)\n",
    "print(obj._age)\n",
    "print(obj._add)"
   ]
  },
  {
   "cell_type": "code",
   "execution_count": 7,
   "id": "682548a4",
   "metadata": {},
   "outputs": [
    {
     "name": "stdout",
     "output_type": "stream",
     "text": [
      "Ram\n",
      "45\n",
      "Hello world I am Ram. I am 45. I am from Kathmandu\n",
      "Hello world I am Ram. I am 45\n"
     ]
    }
   ],
   "source": [
    "#private\n",
    "class Info:\n",
    "    def __init__(self):\n",
    "        self._name = \"Ram\"\n",
    "        self._age = 45\n",
    "        self.__add = \"Kathmandu\"   #private\n",
    "    def info(self):\n",
    "        print(f\"Hello world I am {self._name}. I am {self._age}. I am from {self.__add}\")\n",
    "        \n",
    "class Data(Info):\n",
    "    def data(self):\n",
    "        print(f\"Hello world I am {self._name}. I am {self._age}\")\n",
    "    \n",
    "\n",
    "obj = Data()\n",
    "obj.info()\n",
    "obj.data()"
   ]
  },
  {
   "cell_type": "code",
   "execution_count": 10,
   "id": "716de3ce",
   "metadata": {},
   "outputs": [
    {
     "name": "stdout",
     "output_type": "stream",
     "text": [
      "Hello world I am Ram. I am 45. I am from Kathmandu\n"
     ]
    }
   ],
   "source": [
    "#private\n",
    "class Info:\n",
    "    def __init__(self):\n",
    "        self.__name = \"Ram\"\n",
    "        self.__age = 45\n",
    "        self.__add = \"Kathmandu\"   #private\n",
    "    def info(self):\n",
    "        print(f\"Hello world I am {self.__name}. I am {self.__age}. I am from {self.__add}\")\n",
    "        \n",
    "class Data(Info):\n",
    "    def data(self):\n",
    "        Info.info(self)\n",
    "    \n",
    "\n",
    "obj = Data()\n",
    "# obj.info()\n",
    "obj.data()"
   ]
  },
  {
   "cell_type": "code",
   "execution_count": 11,
   "id": "ad07a5a2",
   "metadata": {},
   "outputs": [
    {
     "name": "stdout",
     "output_type": "stream",
     "text": [
      "Ram\n",
      "45\n",
      "Kathmandu\n"
     ]
    }
   ],
   "source": [
    "#private\n",
    "class Info:\n",
    "    def __init__(self):\n",
    "        self.__name = \"Ram\"\n",
    "        self.__age = 45\n",
    "        self.__add = \"Kathmandu\"\n",
    "\n",
    "obj = Info()\n",
    "print(obj._Info__name)\n",
    "print(obj._Info__age)\n",
    "print(obj._Info__add)"
   ]
  },
  {
   "cell_type": "code",
   "execution_count": null,
   "id": "eedb9c44",
   "metadata": {},
   "outputs": [],
   "source": [
    "#Polymorphism in Python\n",
    "class Parrot:\n",
    "    def fly(self):\n",
    "        print(\"Parrot can fly\")\n",
    "    def swim(self):\n",
    "        print(\"Parrot can't swim\")\n",
    "        \n",
    "class Penguin:\n",
    "    def fly(self):\n",
    "        print(\"Penguin can't fly\")\n",
    "    def swim(self):\n",
    "        print(\"Penguin can swim\")\n",
    "        \n",
    "# common interface\n",
    "def flying_test(bird):\n",
    "    bird.fly()\n",
    "    \n",
    "#instantiate objects\n",
    "blu = Parrot()\n",
    "peggy = Penguin()\n",
    "# passing the object\n",
    "flying_test(blu)\n",
    "flying_test(peggy)\n"
   ]
  }
 ],
 "metadata": {
  "kernelspec": {
   "display_name": "Python 3 (ipykernel)",
   "language": "python",
   "name": "python3"
  },
  "language_info": {
   "codemirror_mode": {
    "name": "ipython",
    "version": 3
   },
   "file_extension": ".py",
   "mimetype": "text/x-python",
   "name": "python",
   "nbconvert_exporter": "python",
   "pygments_lexer": "ipython3",
   "version": "3.9.12"
  }
 },
 "nbformat": 4,
 "nbformat_minor": 5
}
