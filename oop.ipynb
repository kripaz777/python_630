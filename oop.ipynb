{
 "cells": [
  {
   "cell_type": "code",
   "execution_count": 1,
   "id": "41ea4577",
   "metadata": {},
   "outputs": [],
   "source": [
    "# class <class_name>:\n",
    "#     <methods>\n",
    "#     <methods>\n",
    "    \n",
    "    \n",
    "# obj = <class_name>()"
   ]
  },
  {
   "cell_type": "code",
   "execution_count": 4,
   "id": "5c1441d8",
   "metadata": {},
   "outputs": [
    {
     "name": "stdout",
     "output_type": "stream",
     "text": [
      "Hello World\n"
     ]
    }
   ],
   "source": [
    "class Hello:\n",
    "    @staticmethod\n",
    "    def hello():\n",
    "        print(\"Hello World\")\n",
    "        \n",
    "obj = Hello()\n",
    "obj.hello()"
   ]
  },
  {
   "cell_type": "code",
   "execution_count": 6,
   "id": "a4940313",
   "metadata": {},
   "outputs": [
    {
     "name": "stdout",
     "output_type": "stream",
     "text": [
      "Hello World\n"
     ]
    }
   ],
   "source": [
    "class Hello:\n",
    "\n",
    "    def hello(self):\n",
    "        print(\"Hello World\")\n",
    "        \n",
    "obj = Hello()\n",
    "obj.hello()"
   ]
  },
  {
   "cell_type": "code",
   "execution_count": 9,
   "id": "7c863a10",
   "metadata": {},
   "outputs": [
    {
     "name": "stdout",
     "output_type": "stream",
     "text": [
      "110\n",
      "330\n"
     ]
    }
   ],
   "source": [
    "class Area:\n",
    "    \n",
    "    @staticmethod\n",
    "    def area(l,b):\n",
    "        a = l*b\n",
    "        print(a)\n",
    "    @staticmethod\n",
    "    def volume(l,b,h):\n",
    "        v = l*b*h\n",
    "        print(v)\n",
    "        \n",
    "obj = Area()\n",
    "obj.area(10,11)\n",
    "obj.volume(10,11,3)"
   ]
  },
  {
   "cell_type": "code",
   "execution_count": null,
   "id": "96db919c",
   "metadata": {},
   "outputs": [],
   "source": [
    "class Cal:\n",
    "    def __init__(self,l,b,h):\n",
    "        self.l = l\n",
    "        self.b = b\n",
    "        self.h = h\n",
    "    def area(self):\n",
    "        a = self.l*self.b\n",
    "        print(a)\n",
    "    def volume(self):\n",
    "        v = self.l*self.b*self.h\n",
    "        print(v)\n",
    "        \n",
    "\n",
    "obj = Cal(10,5,2)\n",
    "obj.area()\n",
    "obj.volume()"
   ]
  },
  {
   "cell_type": "code",
   "execution_count": null,
   "id": "3d069afc",
   "metadata": {},
   "outputs": [],
   "source": [
    "class Cal:\n",
    "    def __init__(self,l,b,h):\n",
    "        self.l = l\n",
    "        self.b = b\n",
    "        self.h = h\n",
    "    def area(self):\n",
    "        a = self.l*self.b\n",
    "        print(a)\n",
    "    def volume(self):\n",
    "        v = self.l*self.b*self.h\n",
    "        print(v)\n",
    "        \n",
    "l = int(input(\"Enter l = \"))\n",
    "b = int(input(\"Enter b = \"))\n",
    "h = int(input(\"Enter h = \"))\n",
    "\n",
    "obj = Cal(l,b,h)\n",
    "obj.area()\n",
    "obj.volume()"
   ]
  },
  {
   "cell_type": "code",
   "execution_count": 10,
   "id": "36439f6b",
   "metadata": {},
   "outputs": [
    {
     "name": "stdout",
     "output_type": "stream",
     "text": [
      "Enter l = 100\n",
      "Enter b = 20\n",
      "Enter h = 5\n",
      "2000\n",
      "10000\n"
     ]
    }
   ],
   "source": [
    "class Cal:\n",
    "    def __init__(self,l,b):\n",
    "        self.l = l\n",
    "        self.b = b\n",
    "        \n",
    "    def area(self):\n",
    "        a = self.l*self.b\n",
    "        print(a)\n",
    "    def volume(self,h):\n",
    "        v = self.l*self.b*h\n",
    "        print(v)\n",
    "        \n",
    "l = int(input(\"Enter l = \"))\n",
    "b = int(input(\"Enter b = \"))\n",
    "h = int(input(\"Enter h = \"))\n",
    "\n",
    "obj = Cal(l,b)\n",
    "obj.area()\n",
    "obj.volume(h)"
   ]
  },
  {
   "cell_type": "code",
   "execution_count": 11,
   "id": "7be62848",
   "metadata": {},
   "outputs": [
    {
     "name": "stdout",
     "output_type": "stream",
     "text": [
      "Enter l = 110\n",
      "Enter b = 23\n",
      "Enter h = 4\n",
      "2530\n",
      "10120\n",
      "110 23 4\n"
     ]
    }
   ],
   "source": [
    "class Cal:\n",
    "    def __init__(self):\n",
    "        self.l = int(input(\"Enter l = \"))\n",
    "        self.b = int(input(\"Enter b = \"))\n",
    "        self.h = int(input(\"Enter h = \"))\n",
    "    def area(self):\n",
    "        a = self.l*self.b\n",
    "        print(a)\n",
    "    def volume(self):\n",
    "        v = self.l*self.b*self.h\n",
    "        print(v)\n",
    "        \n",
    "\n",
    "\n",
    "obj = Cal()\n",
    "obj.area()\n",
    "obj.volume()\n",
    "print(obj.l,obj.b,obj.h)"
   ]
  },
  {
   "cell_type": "code",
   "execution_count": 4,
   "id": "fcadc048",
   "metadata": {},
   "outputs": [
    {
     "name": "stdout",
     "output_type": "stream",
     "text": [
      "Enter name = Ram\n",
      "Enter age = 34\n",
      "Enter add = Kathmandu\n",
      "Ram\n",
      "<class '__main__.Info'>\n",
      "Ram\n",
      "Ram\n"
     ]
    }
   ],
   "source": [
    "# __str__\n",
    "class Info:\n",
    "    def __init__(self):\n",
    "        self.name = input(\"Enter name = \")\n",
    "        self.age = int(input(\"Enter age = \"))\n",
    "        self.add = input(\"Enter add = \")\n",
    "    def __str__(self):\n",
    "        return self.name\n",
    "    \n",
    "obj = Info()\n",
    "print(obj)\n",
    "print(type(obj))\n",
    "print(obj.__str__())\n",
    "print(str(obj))"
   ]
  },
  {
   "cell_type": "code",
   "execution_count": null,
   "id": "cc0f22c3",
   "metadata": {},
   "outputs": [],
   "source": []
  }
 ],
 "metadata": {
  "kernelspec": {
   "display_name": "Python 3 (ipykernel)",
   "language": "python",
   "name": "python3"
  },
  "language_info": {
   "codemirror_mode": {
    "name": "ipython",
    "version": 3
   },
   "file_extension": ".py",
   "mimetype": "text/x-python",
   "name": "python",
   "nbconvert_exporter": "python",
   "pygments_lexer": "ipython3",
   "version": "3.9.12"
  }
 },
 "nbformat": 4,
 "nbformat_minor": 5
}
