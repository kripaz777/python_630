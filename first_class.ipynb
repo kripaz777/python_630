{
 "cells": [
  {
   "cell_type": "code",
   "execution_count": 10,
   "id": "b3a14197",
   "metadata": {},
   "outputs": [
    {
     "name": "stdout",
     "output_type": "stream",
     "text": [
      "10\n"
     ]
    }
   ],
   "source": [
    "a = 10\n",
    "print(a)"
   ]
  },
  {
   "cell_type": "code",
   "execution_count": 12,
   "id": "a4ba8d56",
   "metadata": {},
   "outputs": [],
   "source": [
    "a = 10; b = 10.5\n"
   ]
  },
  {
   "cell_type": "code",
   "execution_count": 14,
   "id": "a20fa1c9",
   "metadata": {},
   "outputs": [
    {
     "name": "stdout",
     "output_type": "stream",
     "text": [
      "10\n",
      "10.5\n",
      "Hello World\n",
      "True\n",
      "10 10.5 Hello World True\n"
     ]
    }
   ],
   "source": [
    "a = 10            #int\n",
    "b = 10.5          #float\n",
    "c = \"Hello World\"  #string\n",
    "d = True           #bool\n",
    "\n",
    "print(a)\n",
    "print(b)\n",
    "print(c)\n",
    "print(d)\n",
    "\n",
    "print(a,b,c,d)"
   ]
  },
  {
   "cell_type": "code",
   "execution_count": 22,
   "id": "5409a108",
   "metadata": {},
   "outputs": [
    {
     "name": "stdout",
     "output_type": "stream",
     "text": [
      "Hello World I am  Python\n"
     ]
    }
   ],
   "source": [
    "print(\"Hello World I am \",\"Python\")"
   ]
  },
  {
   "cell_type": "code",
   "execution_count": 24,
   "id": "1a053c26",
   "metadata": {},
   "outputs": [
    {
     "name": "stdout",
     "output_type": "stream",
     "text": [
      "10 10.5\n"
     ]
    }
   ],
   "source": [
    "a = 10\n",
    "print(a,10.5)"
   ]
  },
  {
   "cell_type": "code",
   "execution_count": 30,
   "id": "0eace988",
   "metadata": {},
   "outputs": [
    {
     "name": "stdout",
     "output_type": "stream",
     "text": [
      "10 b Hello World d\n"
     ]
    }
   ],
   "source": [
    "a = 10            #int\n",
    "b = 10.5          #float\n",
    "c = \"Hello World\"  #string\n",
    "d = True           #bool\n",
    "\n",
    "\n",
    "\n",
    "print(a,\"b\",c,\"d\")"
   ]
  },
  {
   "cell_type": "code",
   "execution_count": 27,
   "id": "9a5b332d",
   "metadata": {},
   "outputs": [],
   "source": [
    "a = 10"
   ]
  },
  {
   "cell_type": "code",
   "execution_count": null,
   "id": "7276d7b6",
   "metadata": {},
   "outputs": [],
   "source": [
    "c = 'Hello World'  #string\n",
    "c = \"Hello World\"  #string\n",
    "c = '''Hello World'''  #string\n",
    "\n",
    "c = \"Hello World. I am 10\""
   ]
  },
  {
   "cell_type": "code",
   "execution_count": 33,
   "id": "2550186b",
   "metadata": {},
   "outputs": [
    {
     "name": "stdout",
     "output_type": "stream",
     "text": [
      "True\n"
     ]
    }
   ],
   "source": [
    "true = 10\n",
    "d = True           #bool\n",
    "print(d)"
   ]
  },
  {
   "cell_type": "code",
   "execution_count": 37,
   "id": "ae0a7f4d",
   "metadata": {},
   "outputs": [
    {
     "name": "stdout",
     "output_type": "stream",
     "text": [
      "<class 'int'>\n",
      "<class 'float'>\n",
      "<class 'str'>\n",
      "<class 'bool'>\n"
     ]
    }
   ],
   "source": [
    "#type\n",
    "a = 10\n",
    "b = 10.5\n",
    "c = \"Hello World\"\n",
    "d = True\n",
    "print(type(a))\n",
    "print(type(b))\n",
    "print(type(c))\n",
    "print(type(d))"
   ]
  },
  {
   "cell_type": "code",
   "execution_count": 40,
   "id": "2b787d1c",
   "metadata": {},
   "outputs": [
    {
     "name": "stdout",
     "output_type": "stream",
     "text": [
      "10\n"
     ]
    }
   ],
   "source": [
    "a_b = 10\n",
    "print(a_b)"
   ]
  },
  {
   "cell_type": "code",
   "execution_count": 43,
   "id": "bf9ad99c",
   "metadata": {},
   "outputs": [
    {
     "name": "stdout",
     "output_type": "stream",
     "text": [
      "(10, 11, 12)\n"
     ]
    }
   ],
   "source": [
    "a = 10,11,12\n",
    "print(a)"
   ]
  },
  {
   "cell_type": "code",
   "execution_count": 42,
   "id": "7a2f6603",
   "metadata": {},
   "outputs": [
    {
     "name": "stdout",
     "output_type": "stream",
     "text": [
      "12\n"
     ]
    }
   ],
   "source": [
    "a = 10\n",
    "a = 11\n",
    "a = 12\n",
    "print(a)"
   ]
  },
  {
   "cell_type": "code",
   "execution_count": 45,
   "id": "1264fb3d",
   "metadata": {},
   "outputs": [
    {
     "name": "stdout",
     "output_type": "stream",
     "text": [
      "Hello World\n",
      "Hello World It's me Aayush\n",
      "Ram says \"Hello World\" \n"
     ]
    }
   ],
   "source": [
    "a = 'Hello World'  #string\n",
    "b = \"Hello World It's me Aayush\"  #string\n",
    "c = '''Ram says \"Hello World\" '''  #string\n",
    "\n",
    "print(a)\n",
    "print(b)\n",
    "print(c)"
   ]
  },
  {
   "cell_type": "code",
   "execution_count": 48,
   "id": "3ec13f41",
   "metadata": {},
   "outputs": [
    {
     "name": "stdout",
     "output_type": "stream",
     "text": [
      "pppppppppppppppppppppppp pppppppppppppppppppppppppppppppppppppp\n",
      "pppppppppppppppppppppppppppppppppppppppppppppppppppppppppppppppp\n"
     ]
    }
   ],
   "source": [
    "a = '''pppppppppppppppppppppppp pppppppppppppppppppppppppppppppppppppp\n",
    "pppppppppppppppppppppppppppppppppppppppppppppppppppppppppppppppp'''\n",
    "print(a)"
   ]
  },
  {
   "cell_type": "code",
   "execution_count": null,
   "id": "1cf4d9ae",
   "metadata": {},
   "outputs": [],
   "source": []
  }
 ],
 "metadata": {
  "kernelspec": {
   "display_name": "Python 3 (ipykernel)",
   "language": "python",
   "name": "python3"
  },
  "language_info": {
   "codemirror_mode": {
    "name": "ipython",
    "version": 3
   },
   "file_extension": ".py",
   "mimetype": "text/x-python",
   "name": "python",
   "nbconvert_exporter": "python",
   "pygments_lexer": "ipython3",
   "version": "3.9.12"
  }
 },
 "nbformat": 4,
 "nbformat_minor": 5
}
