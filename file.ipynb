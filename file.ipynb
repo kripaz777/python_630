{
 "cells": [
  {
   "cell_type": "code",
   "execution_count": 2,
   "id": "91dfd084",
   "metadata": {},
   "outputs": [],
   "source": [
    "# file = open('<file_name>','<mode>')\n",
    "# <operation>\n",
    "# file.close()\n",
    "\n",
    "# with open('<file_name>','<mode>') as file:\n",
    "#     <operation>\n",
    "\n",
    "\n",
    "# modes\n",
    "# r -> read\n",
    "# x -> create\n",
    "# w -> write\n",
    "# a -> append"
   ]
  },
  {
   "cell_type": "code",
   "execution_count": 3,
   "id": "0e09cb17",
   "metadata": {},
   "outputs": [],
   "source": [
    "file = open('data.txt','x')\n",
    "file.close()"
   ]
  },
  {
   "cell_type": "code",
   "execution_count": 5,
   "id": "45f40361",
   "metadata": {},
   "outputs": [
    {
     "name": "stdout",
     "output_type": "stream",
     "text": [
      "1.Hello World\n",
      "2.Hello World\n",
      "3.Hello World\n",
      "4.Hello World\n",
      "5.Hello World\n",
      "6.Hello World\n",
      "7.Hello World\n",
      "\n",
      "<class 'str'>\n"
     ]
    }
   ],
   "source": [
    "file = open('data.txt','r')\n",
    "x = file.read()\n",
    "print(x)\n",
    "print(type(x))\n",
    "file.close()"
   ]
  },
  {
   "cell_type": "code",
   "execution_count": 6,
   "id": "456e12b3",
   "metadata": {},
   "outputs": [
    {
     "data": {
      "text/plain": [
       "'1.Hello World\\n2.Hello World\\n3.Hello World\\n4.Hello World\\n5.Hello World\\n6.Hello World\\n7.Hello World\\n'"
      ]
     },
     "execution_count": 6,
     "metadata": {},
     "output_type": "execute_result"
    }
   ],
   "source": [
    "x"
   ]
  },
  {
   "cell_type": "code",
   "execution_count": 8,
   "id": "bfcf3b0c",
   "metadata": {},
   "outputs": [
    {
     "name": "stdout",
     "output_type": "stream",
     "text": [
      "['1.Hello World', '2.Hello World', '3.Hello World', '4.Hello World', '5.Hello World', '6.Hello World', '7.Hello World', '']\n"
     ]
    }
   ],
   "source": [
    "y = x.split('\\n')\n",
    "print(y)"
   ]
  },
  {
   "cell_type": "code",
   "execution_count": 11,
   "id": "d1511def",
   "metadata": {},
   "outputs": [
    {
     "name": "stdout",
     "output_type": "stream",
     "text": [
      "Enter line no = 2\n"
     ]
    },
    {
     "data": {
      "text/plain": [
       "'2.Hello World'"
      ]
     },
     "execution_count": 11,
     "metadata": {},
     "output_type": "execute_result"
    }
   ],
   "source": [
    "line_no = int(input(\"Enter line no = \"))\n",
    "y[line_no-1]"
   ]
  },
  {
   "cell_type": "code",
   "execution_count": 12,
   "id": "fc4b660a",
   "metadata": {},
   "outputs": [],
   "source": [
    "# # Write\n",
    "# file = open('<file_name>','w')\n",
    "# <operation>\n",
    "# file.close()"
   ]
  },
  {
   "cell_type": "code",
   "execution_count": 13,
   "id": "03457a96",
   "metadata": {},
   "outputs": [],
   "source": [
    "file = open('data1.txt','w')\n",
    "file.write('Hello World')\n",
    "file.close()"
   ]
  },
  {
   "cell_type": "code",
   "execution_count": 15,
   "id": "2e0114f1",
   "metadata": {},
   "outputs": [
    {
     "ename": "SyntaxError",
     "evalue": "EOL while scanning string literal (2155374795.py, line 4)",
     "output_type": "error",
     "traceback": [
      "\u001b[1;36m  Input \u001b[1;32mIn [15]\u001b[1;36m\u001b[0m\n\u001b[1;33m    name = input(\"Enter name =\u001b[0m\n\u001b[1;37m                               ^\u001b[0m\n\u001b[1;31mSyntaxError\u001b[0m\u001b[1;31m:\u001b[0m EOL while scanning string literal\n"
     ]
    }
   ],
   "source": [
    "info = \"\"\n",
    "n = int(input(\"Enter n = \"))\n",
    "for i in range(n):\n",
    "    name = input(\"Enter name = \")\n",
    "    price = int(input(\"Enter price = \"))\n",
    "    quantity = float(input(\"Enter quantity = \"))\n",
    "    total = price*quantity\n",
    "    data = f\"{name} {price} {quantity} {total}\\n\"\n",
    "    info = info + data\n",
    "    \n",
    "print(info)\n",
    "file = open('data1.txt','w')\n",
    "file.write(info)\n",
    "file.close()"
   ]
  },
  {
   "cell_type": "code",
   "execution_count": 17,
   "id": "764815a3",
   "metadata": {},
   "outputs": [
    {
     "name": "stdout",
     "output_type": "stream",
     "text": [
      "Enter n = 2\n",
      "Enter name = Coke\n",
      "Enter price = 200\n",
      "Enter quantity = 2\n",
      "Enter name = Momo\n",
      "Enter price = 200\n",
      "Enter quantity = 2\n",
      "Coke 200 2.0 400.0\n",
      "Momo 200 2.0 400.0\n",
      "\n"
     ]
    }
   ],
   "source": [
    "info = \"\"\n",
    "n = int(input(\"Enter n = \"))\n",
    "for i in range(n):\n",
    "    name = input(\"Enter name = \")\n",
    "    price = int(input(\"Enter price = \"))\n",
    "    quantity = float(input(\"Enter quantity = \"))\n",
    "    total = price*quantity\n",
    "    data = f\"{name} {price} {quantity} {total}\\n\"\n",
    "    info = info + data\n",
    "    \n",
    "print(info)\n",
    "file = open('bill.txt','a')\n",
    "file.write(info)\n",
    "file.close()"
   ]
  },
  {
   "cell_type": "code",
   "execution_count": 2,
   "id": "492bac87",
   "metadata": {},
   "outputs": [
    {
     "name": "stdout",
     "output_type": "stream",
     "text": [
      "Enter name = Ball\n",
      "Enter price = 200\n",
      "Enter quantity = 3\n",
      "Press enter for next entry \n",
      "Enter name = Apple\n",
      "Enter price = 300\n",
      "Enter quantity = 2\n",
      "Press enter for next entry sdfsdf\n"
     ]
    }
   ],
   "source": [
    "file = open('bill.txt','a')\n",
    "while True:\n",
    "    name = input(\"Enter name = \")\n",
    "    price = int(input(\"Enter price = \"))\n",
    "    quantity = float(input(\"Enter quantity = \"))\n",
    "    total = price*quantity\n",
    "    data = f\"{name} {price} {quantity} {total}\\n\"\n",
    "    file.write(data)\n",
    "    x = input(\"Press enter for next entry \")\n",
    "    if x == '':\n",
    "        continue\n",
    "    else:\n",
    "        break\n",
    "    \n",
    "file.close()"
   ]
  },
  {
   "cell_type": "code",
   "execution_count": 4,
   "id": "3645eb5f",
   "metadata": {},
   "outputs": [
    {
     "name": "stdout",
     "output_type": "stream",
     "text": [
      "Enter name = Apple\n",
      "Enter price = 300\n",
      "Enter quantity = 4\n",
      "Press enter for next entry \n",
      "Enter name = Banana\n",
      "Enter price = 100\n",
      "Enter quantity = 4\n",
      "Press enter for next entry sfsd\n"
     ]
    }
   ],
   "source": [
    "file = open('bill.csv','a')\n",
    "\n",
    "while True:\n",
    "    name = input(\"Enter name = \")\n",
    "    price = int(input(\"Enter price = \"))\n",
    "    quantity = float(input(\"Enter quantity = \"))\n",
    "    total = price*quantity\n",
    "    data = f\"{name},{price},{quantity},{total}\\n\"\n",
    "    file.write(data)\n",
    "    x = input(\"Press enter for next entry \")\n",
    "    if x == '':\n",
    "        continue\n",
    "    else:\n",
    "        break\n",
    "    \n",
    "file.close()"
   ]
  },
  {
   "cell_type": "code",
   "execution_count": 5,
   "id": "b70940e8",
   "metadata": {},
   "outputs": [
    {
     "data": {
      "text/plain": [
       "29"
      ]
     },
     "execution_count": 5,
     "metadata": {},
     "output_type": "execute_result"
    }
   ],
   "source": [
    "file = open('bill1.csv','a')\n",
    "file.write('Product,Price,Quantity,Total\\n')\n",
    "file.close()"
   ]
  },
  {
   "cell_type": "code",
   "execution_count": 6,
   "id": "1b21477d",
   "metadata": {},
   "outputs": [
    {
     "name": "stdout",
     "output_type": "stream",
     "text": [
      "Enter name = Apple\n",
      "Enter price = 2000\n",
      "Enter quantity = 3\n",
      "Press enter for next entry das\n"
     ]
    }
   ],
   "source": [
    "file = open('bill1.csv','a')\n",
    "while True:\n",
    "    name = input(\"Enter name = \")\n",
    "    price = int(input(\"Enter price = \"))\n",
    "    quantity = float(input(\"Enter quantity = \"))\n",
    "    total = price*quantity\n",
    "    data = f\"{name},{price},{quantity},{total}\\n\"\n",
    "    file.write(data)\n",
    "    x = input(\"Press enter for next entry \")\n",
    "    if x == '':\n",
    "        continue\n",
    "    else:\n",
    "        break\n",
    "file.close()"
   ]
  },
  {
   "cell_type": "code",
   "execution_count": 7,
   "id": "f99c274d",
   "metadata": {},
   "outputs": [],
   "source": []
  },
  {
   "cell_type": "code",
   "execution_count": null,
   "id": "7d4b5f9d",
   "metadata": {},
   "outputs": [],
   "source": []
  }
 ],
 "metadata": {
  "kernelspec": {
   "display_name": "Python 3 (ipykernel)",
   "language": "python",
   "name": "python3"
  },
  "language_info": {
   "codemirror_mode": {
    "name": "ipython",
    "version": 3
   },
   "file_extension": ".py",
   "mimetype": "text/x-python",
   "name": "python",
   "nbconvert_exporter": "python",
   "pygments_lexer": "ipython3",
   "version": "3.9.12"
  }
 },
 "nbformat": 4,
 "nbformat_minor": 5
}
